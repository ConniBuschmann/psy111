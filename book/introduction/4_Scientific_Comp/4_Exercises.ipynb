{
 "cells": [
  {
   "cell_type": "markdown",
   "metadata": {},
   "source": [
    "# 4.4 Exercises"
   ]
  },
  {
   "cell_type": "code",
   "execution_count": 6,
   "metadata": {},
   "outputs": [],
   "source": [
    "# Required imports for the exercises\n",
    "import numpy as np\n",
    "import pandas as pd\n",
    "from matplotlib import pyplot as plt"
   ]
  },
  {
   "cell_type": "markdown",
   "metadata": {},
   "source": [
    "## Exercise 1: NumPy arrays\n",
    "\n",
    "Numpy offers many functions to generate n-dimensional arrays without explicitly writing out the lists. For example, you can use the `np.zeros()` method to create an array full of zeros by providing the desired shape as the first argument. \n",
    "\n",
    "1. Have a look at the [documentation](https://numpy.org/doc/2.0/reference/generated/numpy.zeros.html) and then create a three dimensional array of shape `(2,2,2)`.  \n",
    "2. How would such a shape look in the real world? Print the array on the screen. Make sure you understand how the values displayed visually map onto the dimensions of the array.\n",
    "3. Can you generate such an array with only the `np.array()` method? *Hint: A three-diensional array can be seen as a list of lists of lists.*\n",
    "\n",
    "Another useful method is the `np.random.randint()`, which can create arrays filled with random integers. \n",
    "\n",
    "4. Look up the documentation and then create a 5x5 NumPy array of random integers between 1 and 100 and print the sum of all the elements."
   ]
  },
  {
   "cell_type": "code",
   "execution_count": null,
   "metadata": {},
   "outputs": [],
   "source": [
    "# Exercise 1"
   ]
  },
  {
   "cell_type": "markdown",
   "metadata": {},
   "source": [
    "## Exercise 2: More Arrays\n",
    "\n",
    "Create a NumPy array of shape (100,) with values evenly spaced between 0 and 50. For this array, compute the:\n",
    "\n",
    "- Mean\n",
    "- Standard deviation\n",
    "- Sum of all values that are greater than 25\n",
    "\n",
    "*Hint: Useful functions are `np.linspace()`, `np.mean()`, `np.std()`, and `np.sum()`.*\n"
   ]
  },
  {
   "cell_type": "code",
   "execution_count": null,
   "metadata": {},
   "outputs": [],
   "source": [
    "# Exercise 2"
   ]
  },
  {
   "cell_type": "markdown",
   "metadata": {},
   "source": [
    "## Exercise 3: Pandas DataFrames\n",
    "\n",
    "1. Please create a Pandas DataFrame with columns \"Name\", \"Age\", and \"City\" for 5 people and print out the first two rows.\n",
    "2. Load a CSV file into a DataFrame, filter out all rows where the \"Age\" column is greater than 30, and calculate the average age for the remaining rows."
   ]
  },
  {
   "cell_type": "code",
   "execution_count": null,
   "metadata": {},
   "outputs": [],
   "source": [
    "# Exercise 3"
   ]
  },
  {
   "cell_type": "markdown",
   "metadata": {},
   "source": [
    "## Exercise 4: More DataFrames\n",
    "\n",
    "1. Load the Yeatman data from https://yeatmanlab.github.io/AFQBrowser-demo/data/subjects.csv into a `DataFrame`.\n",
    "2. Print the head of the `DataFrame` to get an overview of what is in there.\n",
    "3. Add a filter column for people younger than 30 and call it`'Age < 30'`.\n",
    "4. Calculate the average age and IQ for people younger than 30 as well as for the older people and compare the results.\n",
    "\n",
    "*Hints:*\n",
    "\n",
    "- *The conditions are mutually exclusive (i.e., a person is either younger than 30 or not), meaning you only need a single filter colun to cover both conditions.*\n",
    "- *You can simply use the tilde operator (`~`) for indexing, which in pandas means \"not\". Indexing people 30 and older thus looks like this: `df[~df['Age < 30']]`.*"
   ]
  },
  {
   "cell_type": "code",
   "execution_count": null,
   "metadata": {},
   "outputs": [],
   "source": [
    "# Exercise 4"
   ]
  },
  {
   "cell_type": "markdown",
   "metadata": {},
   "source": [
    "## Exercise 5: Plotting with matplotlib\n",
    "\n",
    "The `plot` method has multiple other keyword arguments to control the appearance of\n",
    "its results. For example, the color keyword argument controls the color of the lines.\n",
    "One way to specify the color of each line is by using a string that is one of the named\n",
    "colors specified in the [Matplotlib documentation](https://matplotlib.org/stable/gallery/color/named_colors.html). Use this keyword argument to make the three lines in the plot more distinguishable from each other by using colors that you find pleasing."
   ]
  },
  {
   "cell_type": "code",
   "execution_count": null,
   "metadata": {},
   "outputs": [],
   "source": [
    "from matplotlib import pyplot as plt\n",
    "\n",
    "trials = [1, 2, 3, 4, 5, 6]\n",
    "first_block = [50, 51.7, 58.8, 68.8, 71.9, 77.9]\n",
    "middle_block = [50, 78.8, 83, 84.2, 90.1, 92.7]\n",
    "last_block = [50, 96.9, 97.8, 98.1, 98.8, 98.7]\n",
    "\n",
    "fig, ax = plt.subplots()\n",
    "\n",
    "ax.plot(trials, first_block, marker='o', linestyle='--', label=\"First block\")\n",
    "ax.plot(trials, middle_block, marker='v', linestyle='--', label=\"Middle block\")\n",
    "ax.plot(trials, last_block, marker='^', linestyle='--', label=\"Last block\")\n",
    "\n",
    "ax.legend()\n",
    "ax.set(xlabel='Trials', ylabel='Percent correct', title='Harlow learning experiment')\n",
    "\n",
    "plt.show()"
   ]
  },
  {
   "cell_type": "markdown",
   "metadata": {},
   "source": [
    "## Exercise 6: More plotting with matplotlib\n",
    "\n",
    "Plot two line graphs in the same plot:\n",
    "\n",
    "- sin(x) and cos(x) for x values from 0 to 2π.\n",
    "- Add a legend and set different line styles for the two functions."
   ]
  },
  {
   "cell_type": "code",
   "execution_count": null,
   "metadata": {},
   "outputs": [],
   "source": [
    "# Exercise 6"
   ]
  },
  {
   "cell_type": "markdown",
   "metadata": {},
   "source": [
    "## Voluntary Exercise 1: Advanced NumPy indexing\n",
    "\n",
    "1. Generate a random 10x10 matrix\n",
    "2. Find the index of the largest value by using `np.where()` and replace it with 0\n",
    "3. Find the row-wise and column-wise sums of the updated array and print the result."
   ]
  },
  {
   "cell_type": "code",
   "execution_count": null,
   "metadata": {},
   "outputs": [],
   "source": [
    "# Voluntary exercise 1"
   ]
  },
  {
   "cell_type": "markdown",
   "metadata": {},
   "source": [
    "## Voluntary exercise 2: Advanced Pandas operations and plotting\n",
    "\n",
    "Given the DataFrame with columns \"Product\", \"Sales\", and \"Date\":\n",
    "\n",
    "1. Create a new column called `Cumulative_Sale` showing the cumulative sales by product over time\n",
    "2. Plot a line graph of cumulative sales for each product. \n",
    "\n",
    "\n",
    "*Hints:*\n",
    "- *DataFrames have a `.cumsum()` method which you can use*\n",
    "- *You can loop over the unique products like so: `for product in df['Product'].unique():`*"
   ]
  },
  {
   "cell_type": "code",
   "execution_count": null,
   "metadata": {},
   "outputs": [],
   "source": [
    "df = pd.DataFrame({\n",
    "    'Product': ['A', 'A', 'B', 'B', 'A', 'B'],\n",
    "    'Sales': [100, 150, 200, 50, 300, 400],\n",
    "    'Date': pd.date_range(start='2023-01-01', periods=6, freq='D')\n",
    "})"
   ]
  },
  {
   "cell_type": "markdown",
   "metadata": {},
   "source": [
    "## Voluntary exercise 3: Advanced plotting layouts\n",
    "\n",
    "1. Create a 3x3 grid of subplots\n",
    "2. For each subplot, plot a different function (e.g., sin(x), cos(x), tan(x), etc.)\n",
    "3. Customize the titles, axes, and tick labels of each subplot.\n",
    "\n",
    "*Hints:*\n",
    "- *Try to do the plotting in a single loop. The potential loop could look like this: `for ax, func in zip(axes.flat, functions):`, with `axes` being the axex object from `plt.subplots` and `functions` being a list containing the relevant functions* \n",
    "- *You can find a list of usable mathematical functions [here](https://numpy.org/doc/stable/reference/routines.math.html)*\n",
    "- *The name of the mathematical function can be accessed through the `func.__name_` attribute*"
   ]
  },
  {
   "cell_type": "code",
   "execution_count": null,
   "metadata": {},
   "outputs": [],
   "source": [
    "# Voluntary exercise 3"
   ]
  }
 ],
 "metadata": {
  "kernelspec": {
   "display_name": "dfc-multiverse",
   "language": "python",
   "name": "python3"
  },
  "language_info": {
   "codemirror_mode": {
    "name": "ipython",
    "version": 3
   },
   "file_extension": ".py",
   "mimetype": "text/x-python",
   "name": "python",
   "nbconvert_exporter": "python",
   "pygments_lexer": "ipython3",
   "version": "3.10.0"
  }
 },
 "nbformat": 4,
 "nbformat_minor": 2
}
