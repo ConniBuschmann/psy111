{
 "cells": [
  {
   "cell_type": "markdown",
   "metadata": {},
   "source": [
    "# 1.3 Exercises"
   ]
  },
  {
   "cell_type": "markdown",
   "metadata": {},
   "source": [
    "## Exercise 1\n",
    "\n",
    "Course contents that contain exercises are implemented in `.ipynb` files. These files can either be opened and used locally or in Google Colab by clicking on the Rocket icon in the top right corner of the book. Please open and run the following code chunk:\n",
    "\n",
    "1) On your local computer (in Visual Studio Code)\n",
    "2) On the internet (in Google Colab)"
   ]
  },
  {
   "cell_type": "code",
   "execution_count": null,
   "metadata": {},
   "outputs": [],
   "source": [
    "import numpy as np\n",
    "from matplotlib import pyplot as plt\n",
    "from matplotlib.collections import LineCollection\n",
    "\n",
    "colors = [\"indigo\", \"blue\", \"green\", \"yellow\", \"orange\", \"red\"]\n",
    "\n",
    "# Create a list of half-circles with varying radii\n",
    "theta = np.linspace(0, np.pi, 36)\n",
    "radii = np.linspace(4, 5, num=len(colors))\n",
    "arcs = [np.column_stack([r * np.cos(theta), r * np.sin(theta)]) for r in radii]\n",
    "\n",
    "# Plot the half-circles\n",
    "fig, ax = plt.subplots()\n",
    "ax.set_xlim(-6, 6)\n",
    "ax.set_ylim(0, 6)\n",
    "ax.set_aspect(\"equal\")\n",
    "\n",
    "line_collection = LineCollection(arcs, colors=colors, linewidths=4)\n",
    "ax.add_collection(line_collection)\n",
    "ax.text(0, 1, \"Welcome to psy111!\", fontsize=14, ha='center')\n",
    "\n",
    "plt.show()"
   ]
  },
  {
   "cell_type": "markdown",
   "metadata": {},
   "source": [
    "## Exercise 2\n",
    "\n",
    "Please do the following:\n",
    "\n",
    "1) Create a `my_first_script.py` Python file and save it to your computer\n",
    "2) Copy the code from the previous exercise into it and run it"
   ]
  },
  {
   "cell_type": "markdown",
   "metadata": {},
   "source": [
    "## Exercise 3\n",
    "\n",
    "Please do the following:\n",
    "\n",
    "1) Create a `my_first_notebook.ipynb` Jupyter notebook and save it to your computer\n",
    "2) Create a Markdown cell and write some text\n",
    "3) Create a Code cell and make it print the message \"Hello World\"\n",
    "\n",
    "*Note: You might get a pop-up telling you to install the ipykernel package. Please do so.*"
   ]
  },
  {
   "cell_type": "markdown",
   "metadata": {},
   "source": [
    "## Exercise 4\n",
    "\n",
    "You have previously created a `.py` Python file as well as a `.ipynb` Jupyter notebook. Discuss with your neigbour:\n",
    "\n",
    "1) What are the differences between these files\n",
    "2) Can you come up with examples, where using one over the other would be preferred?"
   ]
  },
  {
   "cell_type": "markdown",
   "metadata": {},
   "source": [
    "## Exercise 5\n",
    "\n",
    "Let's imagine the following scenario. You have completed the first year of your Master's course and you are ready to start with your practical project! As you need to do some data analysis in Python, you want to create a new Conda envirionment so you can have all the necessary Python packages in an isolated environment and avoid any potential version conflicts.\n",
    "\n",
    "1) Create a new Conda environment and call it `practical_project`\n",
    "2) Open the previously created `my_first_script.py` Python file and run it in the `practical_project` environment. Does it work?\n",
    "3) You encountered an error in the previous exercise. Please fix it.\n",
    "4) Check the packages that are installed in the `practical_project` environment\n",
    "5) Delete the `practical_project` environment\n",
    "\n",
    "Hints:\n",
    "- Look at the \"*Installing Python: 1.2 Usage*\" section of the book if you are unsure what to do\n",
    "- Refer to the [Conda cheatsheet](https://docs.conda.io/projects/conda/en/4.6.0/_downloads/52a95608c49671267e40c689e0bc00ca/conda-cheatsheet.pdf) if you are unsure about the required commands\n",
    "\n",
    "\n",
    "\n"
   ]
  },
  {
   "cell_type": "markdown",
   "metadata": {},
   "source": [
    "## Exercise 6\n",
    "\n",
    "Install the :emojisense: extension in Visual Studio Code, so you can add emojis to your future scripts 🚀 🥳\n",
    "\n"
   ]
  }
 ],
 "metadata": {
  "kernelspec": {
   "display_name": "dfc-multiverse",
   "language": "python",
   "name": "python3"
  },
  "language_info": {
   "codemirror_mode": {
    "name": "ipython",
    "version": 3
   },
   "file_extension": ".py",
   "mimetype": "text/x-python",
   "name": "python",
   "nbconvert_exporter": "python",
   "pygments_lexer": "ipython3",
   "version": "3.10.0"
  },
  "widgets": {
   "application/vnd.jupyter.widget-state+json": {
    "state": {},
    "version_major": 2,
    "version_minor": 0
   }
  }
 },
 "nbformat": 4,
 "nbformat_minor": 4
}
