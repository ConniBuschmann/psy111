{
 "cells": [
  {
   "cell_type": "markdown",
   "metadata": {},
   "source": [
    "# X.3 Exercises"
   ]
  },
  {
   "cell_type": "markdown",
   "metadata": {},
   "source": [
    "## Exercise 1: Preparation and data exploration"
   ]
  },
  {
   "cell_type": "markdown",
   "metadata": {},
   "source": [
    "Load the `diabetes` dataset from the `sklearnlibrary` and use `dataset.DESCR` to read the dataset description. A few weeks ago we used these variables to predict the presence of diabetes. This week, the goal is to explore the data, aiming to find underlying factors influencing the variables. Inspect the data and plot the correlation matrix."
   ]
  },
  {
   "cell_type": "code",
   "execution_count": null,
   "metadata": {},
   "outputs": [],
   "source": [
    "# Load packages\n",
    "import pandas as pd\n",
    "import seaborn as sns\n",
    "import matplotlib.pyplot as plt\n",
    "from sklearn import datasets\n",
    "\n",
    "# Load the diabetes dataset from sklearn\n",
    "df = datasets.load_diabetes(as_frame=True)\n",
    "# We only want the predictors\n",
    "df = df.data\n",
    "# Drop  not needed columns\n",
    "df = df.drop(columns=['age', 'sex', 'bmi', 'bp'])\n",
    "\n",
    "\n",
    "# Inspect the data\n",
    "\n",
    "\n",
    "# Plot the correlation matrix\n",
    "\n",
    "\n",
    "##solution\n",
    "print(df)\n",
    "\n",
    "plt.matshow(df.corr())\n",
    "plt.show()"
   ]
  },
  {
   "cell_type": "markdown",
   "metadata": {},
   "source": [
    "## Exercise 2: Fit the model"
   ]
  },
  {
   "cell_type": "markdown",
   "metadata": {},
   "source": [
    "Use `factor_analyzer` package to fit a first non-rotated MINRES EFA model where n factors = n variables. After fitting the model, determine the number of factros using a method of your choice.  "
   ]
  },
  {
   "cell_type": "code",
   "execution_count": null,
   "metadata": {},
   "outputs": [],
   "source": [
    "# Load packages\n",
    "from factor_analyzer import FactorAnalyzer\n",
    "\n",
    "# Fit the initial model\n",
    "\n",
    "# Determine the number of factors\n",
    "\n",
    "##solution\n",
    "fa = FactorAnalyzer(rotation=None, method = 'minres', n_factors=6) #6 variables = max. 6 factors\n",
    "fa.fit(df)\n",
    "\n",
    "ev, cfev = fa.get_eigenvalues() \n",
    "print(ev)\n",
    "\n",
    "plt.plot(ev)\n",
    "plt.xlabel(\"factor\")\n",
    "plt.ylabel(\"eigenvalue\")"
   ]
  },
  {
   "cell_type": "markdown",
   "metadata": {},
   "source": [
    "## Exercise 3: Loadings & Communalities"
   ]
  },
  {
   "cell_type": "markdown",
   "metadata": {},
   "source": [
    "After selecting the number of factors, fit a final model. Use a MINRES model, similar to the first model. This time, use oblimin roation. Print the rotated factor loadings and communalities. Do the communalities suggest a good model fit?"
   ]
  },
  {
   "cell_type": "code",
   "execution_count": null,
   "metadata": {},
   "outputs": [],
   "source": [
    "# Fit the final model\n",
    "\n",
    "# Get factors loadings\n",
    "\n",
    "# Get communalities\n",
    "\n",
    "##solution\n",
    "fa2 = FactorAnalyzer(n_factors=2, rotation='oblimin', method='minres')\n",
    "fa2.fit(df)\n",
    "\n",
    "l = fa2.loadings_\n",
    "print(l)\n",
    "\n",
    "c = fa2.get_communalities()\n",
    "print(c)"
   ]
  },
  {
   "cell_type": "markdown",
   "metadata": {},
   "source": [
    "## Voluntary Exercise 1: Improve Fit"
   ]
  },
  {
   "cell_type": "markdown",
   "metadata": {},
   "source": [
    "Look again at the Communalities again. Some variables are badly represented by the factor structure. Exclude them and fit the model again. Did the fit improve? "
   ]
  },
  {
   "cell_type": "code",
   "execution_count": null,
   "metadata": {},
   "outputs": [],
   "source": [
    "# Exclude variables \n",
    "\n",
    "# Fit the model\n",
    "\n",
    "# Get Loadings\n",
    "\n",
    "# Get Communlaties \n",
    "\n",
    "##solution\n",
    "df = df.drop(columns=['s5', 's6']) #s5 & s6 have low communalities, meaning they are not well represented by the factor structure\n",
    "\n",
    "fa3 = FactorAnalyzer(n_factors=2, rotation='oblimin', method='minres')\n",
    "fa3.fit(df)\n",
    "\n",
    "l = fa3.loadings_\n",
    "print(l)\n",
    "\n",
    "c = fa3.get_communalities()\n",
    "print(c)\n"
   ]
  },
  {
   "cell_type": "markdown",
   "metadata": {},
   "source": [
    "## Voluntary Exercise 2: Interpretation"
   ]
  },
  {
   "cell_type": "markdown",
   "metadata": {},
   "source": [
    "To interpret factor loadings and factors one needs to know what the variables measure as well as domain knowledge. Assume that the variables `s2` and `s1` represent `hours of physical exercise per week` and `amount of vegetables consumed in one week`, respectively. Further assume that the variables `s4` and `s3` represent `expression of a diabetes-protecting gene` and `amount of relatives having diabetes`, respectively. How could you interpret the two factors? Write a comment."
   ]
  },
  {
   "cell_type": "code",
   "execution_count": null,
   "metadata": {},
   "outputs": [],
   "source": [
    "# Interpretation \n",
    "\n",
    "#\n",
    "#\n",
    "#\n",
    "#\n",
    "\n",
    "##solution\n",
    "\n",
    "# The items s1 and s2 load high on factor 1. As both variables represent behavior one might interpret the factor as `behavioral risk factors (of diabetes)`. \n",
    "# The items s3 and s4 load high on factor 2. As both variables represent genetic components one might interpret the factor as `genetic risk factors (of diabetes)`."
   ]
  }
 ],
 "metadata": {
  "kernelspec": {
   "display_name": "psy111",
   "language": "python",
   "name": "python3"
  },
  "language_info": {
   "codemirror_mode": {
    "name": "ipython",
    "version": 3
   },
   "file_extension": ".py",
   "mimetype": "text/x-python",
   "name": "python",
   "nbconvert_exporter": "python",
   "pygments_lexer": "ipython3",
   "version": "3.12.4"
  }
 },
 "nbformat": 4,
 "nbformat_minor": 2
}
