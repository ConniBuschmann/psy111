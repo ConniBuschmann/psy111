{
 "cells": [
  {
   "cell_type": "markdown",
   "metadata": {},
   "source": [
    "# 7.3 Exercises"
   ]
  },
  {
   "cell_type": "markdown",
   "metadata": {},
   "source": [
    "## Exercise 1: Loading the Data\n",
    "\n",
    "For today's exercise we will use the **Breast Cancer Wisconsin (Diagnostic)**. It is a collection of data used for predicting whether a breast tumor is malignant (cancerous) or benign (non-cancerous), containinh information derived from images of breast mass samples obtained through fine needle aspirates.\n",
    "\n",
    "The dataset consists of 569 samples with 30 features that measure various characteristics of cell nuclei, such as radius, texture, perimeter, and area. Each sample is labeled as either **malignant (1)** or **benign (0)**.\n",
    "\n",
    "To import the dataset in Python, you can run the following code chunk.\n",
    "\n",
    "1. Please [visit the documentation](https://archive.ics.uci.edu/dataset/17/breast+cancer+wisconsin+diagnostic) and familiarize yourself with the dataset.\n",
    "2. Find the instructions for importing the data in Python. You can remove the printing of the metadata as this looks horrible in the notebook. Read it in the documentation instead.\n",
    "3. Convert the outcome into a 1D vector by using `y = np.ravel(y)`. This is the required input for by the logistic regression model in the next exercise.\n",
    "4. Take an initial look at the features (predictors) and targets (outcomes) through the `.head()` method."
   ]
  },
  {
   "cell_type": "code",
   "execution_count": 2,
   "metadata": {},
   "outputs": [],
   "source": [
    "import pandas as pd\n",
    "import numpy as np\n",
    "import matplotlib.pyplot as plt\n",
    "from sklearn.linear_model import LogisticRegression\n",
    "from sklearn.metrics import classification_report, confusion_matrix\n",
    "from ucimlrepo import fetch_ucirepo\n",
    "\n",
    "# TODO"
   ]
  },
  {
   "cell_type": "markdown",
   "metadata": {},
   "source": [
    "## Exercise 2: Fitting the prediction model\n",
    "\n",
    "1. Fit a logitic regression model using all predictors for predicting\n",
    "2. Get and print the accuracy of the model.\n",
    "3. Get and print the confusion matrix for the target variable.\n",
    "4. Review the classification report and interpret the results.\n",
    "\n",
    "*Hint: If you get a warning about convergence, try setting `max_iter=10000` in the logistic regression class.*"
   ]
  },
  {
   "cell_type": "code",
   "execution_count": 3,
   "metadata": {},
   "outputs": [],
   "source": [
    "# TODO"
   ]
  },
  {
   "cell_type": "markdown",
   "metadata": {},
   "source": [
    "## Voluntary exercise\n",
    "\n",
    "1. Try to create a custom plot which visualizes the confusion matrix It should contain:\n",
    "- The four squares of the matrix (color coded)\n",
    "- Labels of the actual values in the middle of each square\n",
    "- Labels for all squares\n",
    "- A colorbar\n",
    "- A title\n",
    "\n",
    "2. Use `ConfusionMatrixDisplay()` from scikit-learn to achieve the same goal (and see that sometimes it makes sense to not re-invent the wheel :))"
   ]
  },
  {
   "cell_type": "code",
   "execution_count": 4,
   "metadata": {},
   "outputs": [],
   "source": [
    "# TODO"
   ]
  }
 ],
 "metadata": {
  "kernelspec": {
   "display_name": "psy111",
   "language": "python",
   "name": "python3"
  },
  "language_info": {
   "codemirror_mode": {
    "name": "ipython",
    "version": 3
   },
   "file_extension": ".py",
   "mimetype": "text/x-python",
   "name": "python",
   "nbconvert_exporter": "python",
   "pygments_lexer": "ipython3",
   "version": "3.13.0"
  }
 },
 "nbformat": 4,
 "nbformat_minor": 2
}
