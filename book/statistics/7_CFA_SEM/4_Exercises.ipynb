{
 "cells": [
  {
   "cell_type": "markdown",
   "metadata": {},
   "source": [
    "# 11.4 Exercises"
   ]
  },
  {
   "cell_type": "markdown",
   "metadata": {},
   "source": [
    "## Exercise 1: Preparation and data exploration\n",
    "\n",
    "Load the `semopy`package and the `HolzingerSwineford1939` dataset.  If you want to keep your dataset small and organized, you can use `.drop()` to remove the columns `x1`, `x4`and `x7`.\n"
   ]
  },
  {
   "cell_type": "code",
   "execution_count": 1,
   "metadata": {},
   "outputs": [
    {
     "name": "stdout",
     "output_type": "stream",
     "text": [
      "      id  sex  ageyr  agemo       school  grade    x2     x3    x5        x6  \\\n",
      "1      1    1     13      1      Pasteur    7.0  7.75  0.375  5.75  1.285714   \n",
      "2      2    2     13      7      Pasteur    7.0  5.25  2.125  3.00  1.285714   \n",
      "3      3    2     13      1      Pasteur    7.0  5.25  1.875  1.75  0.428571   \n",
      "4      4    1     13      2      Pasteur    7.0  7.75  3.000  4.50  2.428571   \n",
      "5      5    2     12      2      Pasteur    7.0  4.75  0.875  4.00  2.571429   \n",
      "..   ...  ...    ...    ...          ...    ...   ...    ...   ...       ...   \n",
      "297  346    1     13      5  Grant-White    8.0  7.00  1.375  4.25  1.000000   \n",
      "298  347    2     14     10  Grant-White    8.0  6.00  1.625  4.00  1.000000   \n",
      "299  348    2     14      3  Grant-White    8.0  5.50  1.875  5.75  4.285714   \n",
      "300  349    1     14      2  Grant-White    8.0  6.75  0.500  4.50  2.000000   \n",
      "301  351    1     13      5  Grant-White    NaN  6.00  3.375  5.75  3.142857   \n",
      "\n",
      "       x8        x9  \n",
      "1    5.75  6.361111  \n",
      "2    6.25  7.916667  \n",
      "3    3.90  4.416667  \n",
      "4    5.30  4.861111  \n",
      "5    6.30  5.916667  \n",
      "..    ...       ...  \n",
      "297  5.60  5.250000  \n",
      "298  6.05  6.083333  \n",
      "299  6.00  7.611111  \n",
      "300  6.20  4.388889  \n",
      "301  6.95  5.166667  \n",
      "\n",
      "[301 rows x 12 columns]\n"
     ]
    }
   ],
   "source": [
    "import semopy\n",
    "\n",
    "data = semopy.examples.holzinger39.get_data()\n",
    "data = data.drop(columns=['x1', 'x4', 'x7'])\n",
    "print(data)"
   ]
  },
  {
   "cell_type": "markdown",
   "metadata": {},
   "source": [
    "## Exercise 2: Fit a CFA model\n",
    "\n",
    "Fit a CFA model with 3 latent variables. `x2` and `x3` should load onto `visual`, `x5` and `x6` shoud load onto `text`, `x8` and `x9` should load onto `speed`. Assume all latent factors to be uncorrelated with each other. After Specifying the model, fit it and inspect the model estimates as well as the model fit measures. "
   ]
  },
  {
   "cell_type": "code",
   "execution_count": 2,
   "metadata": {},
   "outputs": [
    {
     "name": "stderr",
     "output_type": "stream",
     "text": [
      "WARNING:root:Fisher Information Matrix is not PD.Moore-Penrose inverse will be used instead of Cholesky decomposition. See 10.1109/TSP.2012.2208105.\n"
     ]
    },
    {
     "name": "stdout",
     "output_type": "stream",
     "text": [
      "Name of objective: MLW\n",
      "Optimization method: SLSQP\n",
      "Optimization successful.\n",
      "Optimization terminated successfully\n",
      "Objective value: 0.243\n",
      "Number of iterations: 16\n",
      "Params: 0.646 0.753 0.644 0.710 1.347 0.699 0.683 0.984 0.313 0.432 0.312 0.721\n",
      "      lval  op    rval  Estimate  Std. Err    z-value p-value\n",
      "0       x2   ~  visual  1.000000         -          -       -\n",
      "1       x3   ~  visual  0.645532  0.069086   9.343818     0.0\n",
      "2       x5   ~    text  1.000000         -          -       -\n",
      "3       x6   ~    text  0.753297  0.039054  19.288631     0.0\n",
      "4       x8   ~   speed  1.000000         -          -       -\n",
      "5       x9   ~   speed  0.644022  0.052423  12.285023     0.0\n",
      "6    speed  ~~  visual  0.000000         -          -       -\n",
      "7    speed  ~~    text  0.000000         -          -       -\n",
      "8    speed  ~~   speed  0.710144  0.055045  12.901184     0.0\n",
      "9     text  ~~  visual  0.000000         -          -       -\n",
      "10    text  ~~    text  1.346736  0.081896  16.444561     0.0\n",
      "11  visual  ~~  visual  0.698939  0.070463   9.919235     0.0\n",
      "12      x2  ~~      x2  0.682726  0.067459  10.120596     0.0\n",
      "13      x3  ~~      x3  0.983522   0.09242  10.641903     0.0\n",
      "14      x5  ~~      x5  0.312987  0.057231   5.468815     0.0\n",
      "15      x6  ~~      x6  0.432071  0.050901   8.488501     0.0\n",
      "16      x8  ~~      x8  0.311893  0.044302   7.040144     0.0\n",
      "17      x9  ~~      x9  0.720522  0.064109  11.238952     0.0\n",
      "                      Value\n",
      "DoF            9.000000e+00\n",
      "DoF Baseline   1.500000e+01\n",
      "chi2           7.308156e+01\n",
      "chi2 p-value   3.776091e-12\n",
      "chi2 Baseline  3.976807e+02\n",
      "CFI            8.325456e-01\n",
      "GFI            8.162306e-01\n",
      "AGFI           6.937176e-01\n",
      "NFI            8.162306e-01\n",
      "TLI            7.209094e-01\n",
      "RMSEA          1.540581e-01\n",
      "AIC            2.351441e+01\n",
      "BIC            6.799973e+01\n",
      "LogLik         2.427959e-01\n"
     ]
    }
   ],
   "source": [
    "# Specify the model\n",
    "desc = '''\n",
    "    visual =~ x2 + x3\n",
    "    text =~ x5 + x6\n",
    "    speed =~ x8 + x9\n",
    "    \n",
    "    # Set correlations to zero\n",
    "    speed ~~ 0 * visual\n",
    "    speed ~~ 0 * text\n",
    "    text ~~ 0 * visual\n",
    "'''\n",
    "\n",
    "# Fit the model\n",
    "model = semopy.Model(desc)\n",
    "results = model.fit(data)\n",
    "print(results)\n",
    "\n",
    "# Get the estimates\n",
    "estimates = model.inspect()\n",
    "print(estimates)\n",
    "\n",
    "# Get the fit measures\n",
    "stats = semopy.calc_stats(model)\n",
    "print(stats.T)"
   ]
  },
  {
   "cell_type": "markdown",
   "metadata": {},
   "source": [
    "## Exercise 3: Fit a SEM model\n",
    "\n",
    "Adapt your model from above to include a structural part, meaning a unidirectional association on the level of latent variables. Print the model estimates and the model fit statistics. Does the CFA or the SEM model provide better fit?"
   ]
  },
  {
   "cell_type": "code",
   "execution_count": 3,
   "metadata": {},
   "outputs": [
    {
     "name": "stdout",
     "output_type": "stream",
     "text": [
      "Name of objective: MLW\n",
      "Optimization method: SLSQP\n",
      "Optimization successful.\n",
      "Optimization terminated successfully\n",
      "Objective value: 0.129\n",
      "Number of iterations: 33\n",
      "Params: 0.920 0.996 1.492 0.243 0.306 0.175 1.017 0.430 0.892 0.860 0.643 0.189 0.716 0.333\n",
      "      lval  op    rval  Estimate  Std. Err   z-value   p-value\n",
      "0   visual   ~    text  0.243248  0.071739  3.390722  0.000697\n",
      "1       x2   ~  visual  1.000000         -         -         -\n",
      "2       x3   ~  visual  0.920151  0.319334  2.881463  0.003958\n",
      "3       x5   ~    text  1.000000         -         -         -\n",
      "4       x6   ~    text  0.995615  0.147123  6.767251       0.0\n",
      "5       x8   ~   speed  1.000000         -         -         -\n",
      "6       x9   ~   speed  1.491557   0.49399  3.019408  0.002533\n",
      "7    speed  ~~   speed  0.306471  0.115393  2.655897   0.00791\n",
      "8    speed  ~~    text  0.174509  0.066621  2.619427  0.008808\n",
      "9     text  ~~    text  1.016585  0.189009  5.378491       0.0\n",
      "10  visual  ~~  visual  0.429668   0.17138  2.507115  0.012172\n",
      "11      x2  ~~      x2  0.892131  0.184637  4.831812  0.000001\n",
      "12      x3  ~~      x3  0.860040  0.159882  5.379233       0.0\n",
      "13      x5  ~~      x5  0.643051  0.151387  4.247718  0.000022\n",
      "14      x6  ~~      x6  0.188695  0.141532  1.333234  0.182455\n",
      "15      x8  ~~      x8  0.715545  0.114801  6.232929       0.0\n",
      "16      x9  ~~      x9  0.332980   0.22165  1.502281  0.133025\n",
      "                    Value\n",
      "DoF              7.000000\n",
      "DoF Baseline    15.000000\n",
      "chi2            38.761065\n",
      "chi2 p-value     0.000002\n",
      "chi2 Baseline  397.680707\n",
      "CFI              0.917004\n",
      "GFI              0.902532\n",
      "AGFI             0.791140\n",
      "NFI              0.902532\n",
      "TLI              0.822151\n",
      "RMSEA            0.122981\n",
      "AIC             27.742451\n",
      "BIC             79.641995\n",
      "LogLik           0.128774\n"
     ]
    }
   ],
   "source": [
    "# Specify the model\n",
    "desc2 = '''\n",
    "    # Measurement model\n",
    "    visual =~ x2 + x3\n",
    "    text =~ x5 + x6\n",
    "    speed =~ x8 + x9\n",
    "    \n",
    "    # Structural model\n",
    "    visual ~ text\n",
    "    speed ~ text\n",
    "    visual~ speed\n",
    "'''\n",
    "\n",
    "# Fit the model\n",
    "model2 = semopy.Model(desc2)\n",
    "results2 = model2.fit(data)\n",
    "print(results2)\n",
    "\n",
    "# Get the  estimates\n",
    "estimates2 = model2.inspect()\n",
    "print(estimates2)\n",
    "\n",
    "# Get the fit measures\n",
    "stats2 = semopy.calc_stats(model2)\n",
    "print(stats2.T)"
   ]
  },
  {
   "cell_type": "markdown",
   "metadata": {},
   "source": [
    "## Voluntary exercise 1: Higher level factors\n",
    "\n",
    "Go back to your CFA model and add a higher level factor onto which all latent variables load onto. Name it `intelligence`. Does the higher level factor improve model fit?"
   ]
  },
  {
   "cell_type": "code",
   "execution_count": 4,
   "metadata": {},
   "outputs": [
    {
     "name": "stdout",
     "output_type": "stream",
     "text": [
      "Name of objective: MLW\n",
      "Optimization method: SLSQP\n",
      "Optimization successful.\n",
      "Optimization terminated successfully\n",
      "Objective value: 0.037\n",
      "Number of iterations: 39\n",
      "Params: 1.363 1.116 1.721 0.897 1.203 0.143 0.151 0.766 0.124 1.051 0.659 0.751 0.064 0.757 0.227\n",
      "            lval  op          rval  Estimate  Std. Err   z-value   p-value\n",
      "0           text   ~  intelligence  1.000000         -         -         -\n",
      "1          speed   ~  intelligence  0.897471  0.351128  2.555968  0.010589\n",
      "2         visual   ~  intelligence  1.203470  0.444534  2.707259  0.006784\n",
      "3             x2   ~        visual  1.000000         -         -         -\n",
      "4             x3   ~        visual  1.363364   0.32002  4.260246   0.00002\n",
      "5             x5   ~          text  1.000000         -         -         -\n",
      "6             x6   ~          text  1.116107  0.213113  5.237161       0.0\n",
      "7             x8   ~         speed  1.000000         -         -         -\n",
      "8             x9   ~         speed  1.720615  0.415237  4.143696  0.000034\n",
      "9   intelligence  ~~  intelligence  0.142677  0.077422  1.842853  0.065351\n",
      "10         speed  ~~         speed  0.151134  0.050385  2.999596  0.002703\n",
      "11          text  ~~          text  0.766177  0.161477  4.744796  0.000002\n",
      "12        visual  ~~        visual  0.124396  0.076715  1.621541  0.104902\n",
      "13            x2  ~~            x2  1.051047  0.114328  9.193273       0.0\n",
      "14            x3  ~~            x3  0.659403  0.150627   4.37772  0.000012\n",
      "15            x5  ~~            x5  0.750763  0.177671  4.225568  0.000024\n",
      "16            x6  ~~            x6  0.064111  0.207847  0.308453  0.757738\n",
      "17            x8  ~~            x8  0.756587  0.085921    8.8056       0.0\n",
      "18            x9  ~~            x9  0.227420  0.178078  1.277079  0.201574\n",
      "                    Value\n",
      "DoF              6.000000\n",
      "DoF Baseline    15.000000\n",
      "chi2            11.147616\n",
      "chi2 p-value     0.083920\n",
      "chi2 Baseline  397.680707\n",
      "CFI              0.986549\n",
      "GFI              0.971968\n",
      "AGFI             0.929921\n",
      "NFI              0.971968\n",
      "TLI              0.966371\n",
      "RMSEA            0.053477\n",
      "AIC             29.925929\n",
      "BIC             85.532583\n",
      "LogLik           0.037035\n"
     ]
    }
   ],
   "source": [
    "# Specify the model\n",
    "desc3 = '''\n",
    "    visual =~ x2 + x3\n",
    "    text =~ x5 + x6\n",
    "    speed =~ x8 + x9\n",
    "    \n",
    "    # Higher level factor\n",
    "    intelligence =~ text + speed + visual\n",
    "'''\n",
    "\n",
    "# Fit the model\n",
    "model3 = semopy.Model(desc3)\n",
    "results3 = model3.fit(data)\n",
    "print(results3)\n",
    "\n",
    "# Print the model estimates\n",
    "estimates3 = model3.inspect()\n",
    "print(estimates3)\n",
    "\n",
    "# Print the model fit measures\n",
    "stats3 = semopy.calc_stats(model3)\n",
    "print(stats3.T)"
   ]
  },
  {
   "cell_type": "markdown",
   "metadata": {},
   "source": [
    "## Voluntary exercise 2: Advanced models I\n",
    "\n",
    "Now go back to your SEM model and modify it in a way such that the factor variance of the `speed` factor is fixed to 1. How does that affect the interpretation of the loading associated with that factor?"
   ]
  },
  {
   "cell_type": "code",
   "execution_count": 5,
   "metadata": {},
   "outputs": [
    {
     "name": "stdout",
     "output_type": "stream",
     "text": [
      "      lval  op    rval      Estimate  Std. Err    z-value   p-value\n",
      "0   visual   ~    text  2.438808e-01  0.072909   3.344997  0.000823\n",
      "1       x2   ~  visual  1.000000e+00         -          -         -\n",
      "2       x3   ~  visual  9.856756e-01  0.334754   2.944478  0.003235\n",
      "3       x5   ~    text  1.000000e+00         -          -         -\n",
      "4       x6   ~    text  1.178863e+00  0.231803    5.08563       0.0\n",
      "5       x8   ~   speed  1.000000e+00         -          -         -\n",
      "6       x9   ~   speed  4.722850e-01  0.065456   7.215253       0.0\n",
      "7    speed  ~~   speed  1.000000e+00         -          -         -\n",
      "8    speed  ~~    text  1.487145e-01  0.062704   2.371706  0.017706\n",
      "9     text  ~~    text  8.613908e-01  0.201203   4.281199  0.000019\n",
      "10  visual  ~~  visual  4.064911e-01  0.158983   2.556827  0.010563\n",
      "11      x2  ~~      x2  9.242148e-01   0.17251   5.357453       0.0\n",
      "12      x3  ~~      x3  8.301917e-01  0.165267   5.023344  0.000001\n",
      "13      x5  ~~      x5  7.994911e-01  0.175065   4.566818  0.000005\n",
      "14      x6  ~~      x6  4.285768e-19  0.225805        0.0       1.0\n",
      "15      x8  ~~      x8  5.248331e-02  0.085115   0.616617  0.537487\n",
      "16      x9  ~~      x9  7.983020e-01  0.068674  11.624598       0.0\n"
     ]
    }
   ],
   "source": [
    "##solution\n",
    "# Specify the model\n",
    "desc4 = '''\n",
    "    # Measurement model\n",
    "    visual =~ x2 + x3\n",
    "    text =~ x5 + x6\n",
    "    speed =~ x8 + x9\n",
    "\n",
    "    # Structrual model\n",
    "    visual ~ text\n",
    "    speed ~ text\n",
    "    visual~ speed\n",
    "\n",
    "    # Fix factor variance to 1\n",
    "    speed ~~ 1*speed\n",
    "'''\n",
    "\n",
    "# Fit the model\n",
    "model4 = semopy.Model(desc4)\n",
    "results4 = model4.fit(data)\n",
    "\n",
    "# Print the model estimates\n",
    "estimates4 = model4.inspect()\n",
    "print(estimates4)"
   ]
  },
  {
   "cell_type": "markdown",
   "metadata": {},
   "source": [
    "## Voluntary exercise 3: Advanced models II\n",
    "\n",
    "Re-load the dataset again, this time without deleting any variables. Specify and evaluate a model that tests the following hypothesis:\n",
    "\n",
    "- `x1`,`x2` and `x3` should load onto `visual`, `x4`,`x5` and `x6` shoud load onto `text`, `x7`,`x8` and `x9` should load onto `speed`.\n",
    "- `visual` and `text` load onto a higher level factor called `intelligence`.\n",
    "- `intelligence` explains 100% of the covariance between `visual` and `text`.\n",
    "- `intelligence` predicts `speed`. \n"
   ]
  },
  {
   "cell_type": "code",
   "execution_count": 6,
   "metadata": {},
   "outputs": [
    {
     "name": "stdout",
     "output_type": "stream",
     "text": [
      "            lval  op          rval  Estimate  Std. Err    z-value   p-value\n",
      "0           text   ~  intelligence  1.000000         -          -         -\n",
      "1         visual   ~  intelligence  1.511090  0.394682   3.828623  0.000129\n",
      "2          speed   ~  intelligence  0.641936  0.150723   4.259032  0.000021\n",
      "3             x1   ~        visual  1.000000         -          -         -\n",
      "4             x2   ~        visual  0.554007   0.09969   5.557311       0.0\n",
      "5             x3   ~        visual  0.730062  0.109142    6.68908       0.0\n",
      "6             x4   ~          text  1.000000         -          -         -\n",
      "7             x5   ~          text  1.112913  0.065402  17.016368       0.0\n",
      "8             x6   ~          text  0.926028  0.055437  16.704137       0.0\n",
      "9             x7   ~         speed  1.000000         -          -         -\n",
      "10            x8   ~         speed  1.181997  0.165403   7.146174       0.0\n",
      "11            x9   ~         speed  1.083819  0.151597   7.149338       0.0\n",
      "12          text  ~~        visual  0.000000         -          -         -\n",
      "13          text  ~~          text  0.709723  0.107058   6.629328       0.0\n",
      "14  intelligence  ~~  intelligence  0.270079  0.090969    2.96892  0.002988\n",
      "15         speed  ~~         speed  0.271288   0.06871    3.94832  0.000079\n",
      "16        visual  ~~        visual  0.192062   0.17018   1.128585  0.259073\n",
      "17            x1  ~~            x1  0.549578  0.113495   4.842322  0.000001\n",
      "18            x2  ~~            x2  1.133480  0.101706  11.144668       0.0\n",
      "19            x3  ~~            x3  0.843889  0.090617    9.31273       0.0\n",
      "20            x4  ~~            x4  0.371101  0.047719   7.776749       0.0\n",
      "21            x5  ~~            x5  0.446237  0.058388   7.642573       0.0\n",
      "22            x6  ~~            x6  0.356280  0.043038   8.278273       0.0\n",
      "23            x7  ~~            x7  0.799993  0.081361   9.832645       0.0\n",
      "24            x8  ~~            x8  0.487875   0.07424   6.571633       0.0\n",
      "25            x9  ~~            x9  0.565861  0.070778   7.994932       0.0\n",
      "                      Value\n",
      "DoF            2.400000e+01\n",
      "DoF Baseline   3.600000e+01\n",
      "chi2           8.530582e+01\n",
      "chi2 p-value   8.501597e-09\n",
      "chi2 Baseline  9.188516e+02\n",
      "CFI            9.305593e-01\n",
      "GFI            9.071604e-01\n",
      "AGFI           8.607406e-01\n",
      "NFI            9.071604e-01\n",
      "TLI            8.958390e-01\n",
      "RMSEA          9.227512e-02\n",
      "AIC            4.143318e+01\n",
      "BIC            1.192825e+02\n",
      "LogLik         2.834080e-01\n"
     ]
    }
   ],
   "source": [
    "# Load the dataset\n",
    "data2 = semopy.examples.holzinger39.get_data()\n",
    "\n",
    "# Specify the model\n",
    "desc5 = '''\n",
    "    visual =~ x1 + x2 + x3\n",
    "    text =~ x4 + x5 + x6\n",
    "    speed =~ x7 + x8 + x9\n",
    "\n",
    "    # Add a higher level factor\n",
    "    intelligence =~ text + visual\n",
    "\n",
    "    # No residual covariance between text and visual\n",
    "    text ~~ 0*visual\n",
    "\n",
    "    # Intelligence predicts speed\n",
    "    speed ~ intelligence\n",
    "'''\n",
    "\n",
    "# Fit the model\n",
    "model5 = semopy.Model(desc5)\n",
    "results5 = model5.fit(data2)\n",
    "\n",
    "# Get model estimates\n",
    "estimates5 = model5.inspect()\n",
    "print(estimates5)\n",
    "\n",
    "# Get fit statistics\n",
    "stats5 = semopy.calc_stats(model5)\n",
    "print(stats5.T)"
   ]
  }
 ],
 "metadata": {
  "kernelspec": {
   "display_name": "psy111",
   "language": "python",
   "name": "python3"
  },
  "language_info": {
   "codemirror_mode": {
    "name": "ipython",
    "version": 3
   },
   "file_extension": ".py",
   "mimetype": "text/x-python",
   "name": "python",
   "nbconvert_exporter": "python",
   "pygments_lexer": "ipython3",
   "version": "3.13.0"
  }
 },
 "nbformat": 4,
 "nbformat_minor": 2
}
