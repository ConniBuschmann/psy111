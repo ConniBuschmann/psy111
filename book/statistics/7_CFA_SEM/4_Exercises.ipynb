{
 "cells": [
  {
   "cell_type": "markdown",
   "metadata": {},
   "source": [
    "# 11.4 Exercises"
   ]
  },
  {
   "cell_type": "markdown",
   "metadata": {},
   "source": [
    "## Exercise 1: Preparation and data exploration\n",
    "\n",
    "Load the `semopy`package and the `HolzingerSwineford1939` dataset. Drop the collumns `x1`, `x4` and `x7`."
   ]
  },
  {
   "cell_type": "code",
   "execution_count": null,
   "metadata": {},
   "outputs": [],
   "source": [
    "##solution\n",
    "# Load packages\n",
    "import semopy\n",
    "# Load the dataset\n",
    "data = semopy.examples.holzinger39.get_data()\n",
    "# Drop not needed colums\n",
    "data = data.drop(columns=['x1', 'x4', 'x7'])\n",
    "print(data)"
   ]
  },
  {
   "cell_type": "markdown",
   "metadata": {},
   "source": [
    "## Exercise 2: Fit a CFA model\n",
    "\n",
    "Fit a CFA model with 3 latent variables. `x2` and `x3` should load onto `visual`, `x5` and `x6` shoud load onto `text`, `x8` and `x9` should load onto `speed`. Assume all latent factors to be uncorrelated with each other. After Specifying the model, fit it and inspect the model estimates as well as the model fit measures. "
   ]
  },
  {
   "cell_type": "code",
   "execution_count": null,
   "metadata": {},
   "outputs": [],
   "source": [
    "##solution\n",
    "# Specify the model\n",
    "desc = '''visual =~ x2 + x3\n",
    "text =~ x5 + x6\n",
    "speed =~ x8 + x9\n",
    "# Set correlations to zero\n",
    "speed ~~ 0 * visual\n",
    "speed ~~ 0 * text\n",
    "text ~~ 0 * visual'''\n",
    "# Fit the model\n",
    "mod = semopy.Model(desc)\n",
    "res_opt = mod.fit(data)\n",
    "estimates = mod.inspect()\n",
    "# Print the model estimates\n",
    "print(estimates)\n",
    "# Print the model fit measures\n",
    "stats = semopy.calc_stats(mod)\n",
    "print(stats.T)"
   ]
  },
  {
   "cell_type": "markdown",
   "metadata": {},
   "source": [
    "## Exercise 3: Fit a SEM model\n",
    "\n",
    "Adapt your model from above to include a structural part, meaning a unidirectional association on the level of latent variables. Print the model estimates and the model fit statistics. Does the CFA or the SEM model provide better fit?"
   ]
  },
  {
   "cell_type": "code",
   "execution_count": null,
   "metadata": {},
   "outputs": [],
   "source": [
    "##solution\n",
    "# Specify the model\n",
    "desc2 = '''\n",
    "# Measurement model\n",
    "visual =~ x2 + x3\n",
    "text =~ x5 + x6\n",
    "speed =~ x8 + x9\n",
    "# Structrual model\n",
    "visual ~ text\n",
    "'''\n",
    "# Fit the model\n",
    "mod2 = semopy.Model(desc2)\n",
    "res_opt2 = mod2.fit(data)\n",
    "estimates2 = mod2.inspect()\n",
    "# Print the model estimates\n",
    "print(estimates2)\n",
    "# Print the model fit measures\n",
    "stats2 = semopy.calc_stats(mod2)\n",
    "print(stats2.T)"
   ]
  },
  {
   "cell_type": "markdown",
   "metadata": {},
   "source": [
    "## Voluntary Exercise 1: Higher level factors\n",
    "\n",
    "Go back to your CFA model and add a higher level factor onto which all latent variables load onto. Name it `intelligence`. Does the higher level factor improve model fit?"
   ]
  },
  {
   "cell_type": "code",
   "execution_count": null,
   "metadata": {},
   "outputs": [],
   "source": [
    "##solution\n",
    "# Specify the model\n",
    "desc3 = '''visual =~ x2 + x3\n",
    "text =~ x5 + x6\n",
    "speed =~ x8 + x9\n",
    "# Add a higher level factor\n",
    "intelligence =~ text + speed + visual\n",
    "'''\n",
    "# Fit the model\n",
    "mod3 = semopy.Model(desc3)\n",
    "res_opt3 = mod3.fit(data)\n",
    "estimates3 = mod3.inspect()\n",
    "# Print the model estimates\n",
    "print(estimates3)\n",
    "# Print the model fit measures\n",
    "stats3 = semopy.calc_stats(mod3)\n",
    "print(stats3.T)"
   ]
  },
  {
   "cell_type": "markdown",
   "metadata": {},
   "source": [
    "## Voluntary Exercise 2: Advanced models I\n",
    "\n",
    "Now go back to your SEM model and modify it in a way such that the factor variance of the `speed` factor is fixed to 1. How does that affect the interpretation of the loading associated with that factor?"
   ]
  },
  {
   "cell_type": "code",
   "execution_count": null,
   "metadata": {},
   "outputs": [],
   "source": [
    "##solution\n",
    "# Specify the model\n",
    "desc4 = '''\n",
    "# Measurement model\n",
    "visual =~ x2 + x3\n",
    "text =~ x5 + x6\n",
    "speed =~ x8 + x9\n",
    "# Structrual model\n",
    "visual ~ text\n",
    "# Fix factor variance to 1\n",
    "speed ~~ 1*speed\n",
    "'''\n",
    "# Fit the model\n",
    "mod4 = semopy.Model(desc4)\n",
    "res_opt4 = mod4.fit(data)\n",
    "estimates4 = mod4.inspect()\n",
    "# Print the model estimates\n",
    "print(estimates4)"
   ]
  },
  {
   "cell_type": "markdown",
   "metadata": {},
   "source": [
    "## Voluntary Exercise 3: Advanced models II\n",
    "\n",
    "Re-load the dataset again, this time without deleting any variables. Specify and evaluate a model that tests the following hypothesis:\n",
    "\n",
    "- `x1`,`x2` and `x3` should load onto `visual`, `x4`,`x5` and `x6` shoud load onto `text`, `x7`,`x8` and `x9` should load onto `speed`.\n",
    "- `visual` and `text` load onto a higher level factor called `intelligence`.\n",
    "- `intelligence` explains 100% of the covariance between `visual` and `text`.\n",
    "- `intelligence` predicts `speed`. \n"
   ]
  },
  {
   "cell_type": "code",
   "execution_count": 10,
   "metadata": {},
   "outputs": [
    {
     "name": "stdout",
     "output_type": "stream",
     "text": [
      "            lval  op          rval  Estimate  Std. Err    z-value   p-value\n",
      "0           text   ~  intelligence  1.000000         -          -         -\n",
      "1         visual   ~  intelligence  1.511090  0.394682   3.828623  0.000129\n",
      "2          speed   ~  intelligence  0.641936  0.150723   4.259032  0.000021\n",
      "3             x1   ~        visual  1.000000         -          -         -\n",
      "4             x2   ~        visual  0.554007   0.09969   5.557311       0.0\n",
      "5             x3   ~        visual  0.730062  0.109142    6.68908       0.0\n",
      "6             x4   ~          text  1.000000         -          -         -\n",
      "7             x5   ~          text  1.112913  0.065402  17.016368       0.0\n",
      "8             x6   ~          text  0.926028  0.055437  16.704137       0.0\n",
      "9             x7   ~         speed  1.000000         -          -         -\n",
      "10            x8   ~         speed  1.181997  0.165403   7.146174       0.0\n",
      "11            x9   ~         speed  1.083819  0.151597   7.149338       0.0\n",
      "12          text  ~~        visual  0.000000         -          -         -\n",
      "13          text  ~~          text  0.709723  0.107058   6.629328       0.0\n",
      "14  intelligence  ~~  intelligence  0.270079  0.090969    2.96892  0.002988\n",
      "15         speed  ~~         speed  0.271288   0.06871    3.94832  0.000079\n",
      "16        visual  ~~        visual  0.192062   0.17018   1.128585  0.259073\n",
      "17            x1  ~~            x1  0.549578  0.113495   4.842322  0.000001\n",
      "18            x2  ~~            x2  1.133480  0.101706  11.144668       0.0\n",
      "19            x3  ~~            x3  0.843889  0.090617    9.31273       0.0\n",
      "20            x4  ~~            x4  0.371101  0.047719   7.776749       0.0\n",
      "21            x5  ~~            x5  0.446237  0.058388   7.642573       0.0\n",
      "22            x6  ~~            x6  0.356280  0.043038   8.278273       0.0\n",
      "23            x7  ~~            x7  0.799993  0.081361   9.832645       0.0\n",
      "24            x8  ~~            x8  0.487875   0.07424   6.571633       0.0\n",
      "25            x9  ~~            x9  0.565861  0.070778   7.994932       0.0\n",
      "                      Value\n",
      "DoF            2.400000e+01\n",
      "DoF Baseline   3.600000e+01\n",
      "chi2           8.530582e+01\n",
      "chi2 p-value   8.501597e-09\n",
      "chi2 Baseline  9.188516e+02\n",
      "CFI            9.305593e-01\n",
      "GFI            9.071604e-01\n",
      "AGFI           8.607406e-01\n",
      "NFI            9.071604e-01\n",
      "TLI            8.958390e-01\n",
      "RMSEA          9.227512e-02\n",
      "AIC            4.143318e+01\n",
      "BIC            1.192825e+02\n",
      "LogLik         2.834080e-01\n"
     ]
    }
   ],
   "source": [
    "##solution\n",
    "# Load the dataset\n",
    "data = semopy.examples.holzinger39.get_data()\n",
    "# Specify the model\n",
    "desc5 = '''visual =~ x1 + x2 + x3\n",
    "text =~ x4 + x5 + x6\n",
    "speed =~ x7 + x8 + x9\n",
    "\n",
    "# Add a higher level factor\n",
    "intelligence =~ text + visual\n",
    "\n",
    "# No residual covariance between text and visual\n",
    "text ~~ 0*visual\n",
    "\n",
    "# Intelligence predicts speed\n",
    "speed ~ intelligence\n",
    "'''\n",
    "\n",
    "# Fit the model\n",
    "mod5 = semopy.Model(desc5)\n",
    "res_opt5 = mod5.fit(data)\n",
    "estimates5 = mod5.inspect()\n",
    "\n",
    "# Print model estimates\n",
    "print(estimates5)\n",
    "\n",
    "# Show fit statistics\n",
    "stats5 = semopy.calc_stats(mod5)\n",
    "print(stats5.T)"
   ]
  }
 ],
 "metadata": {
  "kernelspec": {
   "display_name": "psy111",
   "language": "python",
   "name": "python3"
  },
  "language_info": {
   "codemirror_mode": {
    "name": "ipython",
    "version": 3
   },
   "file_extension": ".py",
   "mimetype": "text/x-python",
   "name": "python",
   "nbconvert_exporter": "python",
   "pygments_lexer": "ipython3",
   "version": "3.12.4"
  }
 },
 "nbformat": 4,
 "nbformat_minor": 2
}
