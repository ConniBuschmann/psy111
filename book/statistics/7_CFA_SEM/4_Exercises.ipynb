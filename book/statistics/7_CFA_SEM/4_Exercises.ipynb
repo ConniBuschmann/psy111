{
 "cells": [
  {
   "cell_type": "markdown",
   "metadata": {},
   "source": [
    "# 11.4 Exercises"
   ]
  },
  {
   "cell_type": "markdown",
   "metadata": {},
   "source": [
    "## Exercise 1: Preparation and data exploration\n",
    "\n",
    "Load the `semopy`package and the `HolzingerSwineford1939` dataset.  If you want to keep your dataset small and organized, you can use `.drop()` to remove the columns `x1`, `x4`and `x7`.\n"
   ]
  },
  {
   "cell_type": "code",
   "execution_count": 1,
   "metadata": {},
   "outputs": [],
   "source": [
    "# Uncomment the following line to run in Google Colab\n",
    "# !pip install semopy\n",
    "import semopy\n",
    "\n",
    "# Import your data here\n",
    "\n",
    "# Drop the unnecessary columns/variables"
   ]
  },
  {
   "cell_type": "markdown",
   "metadata": {},
   "source": [
    "## Exercise 2: Fit a CFA model\n",
    "\n",
    "Fit a CFA model with 3 latent variables. `x2` and `x3` should load onto `visual`, `x5` and `x6` shoud load onto `text`, `x8` and `x9` should load onto `speed`. Assume all latent factors to be uncorrelated with each other. After Specifying the model, fit it and inspect the model estimates as well as the model fit measures. "
   ]
  },
  {
   "cell_type": "code",
   "execution_count": null,
   "metadata": {},
   "outputs": [],
   "source": [
    "# Specify the model\n",
    "\n",
    "# Fit the model\n",
    "\n",
    "# Get the estimates\n",
    "\n",
    "# Get the fit measures\n",
    "\n",
    "# Visualize the model, visualize the 0 correlation between factors "
   ]
  },
  {
   "cell_type": "markdown",
   "metadata": {},
   "source": [
    "## Exercise 3: Fit a SEM model\n",
    "\n",
    "Adapt your model from above to include a structural part, meaning a unidirectional association on the level of latent variables. Print the model estimates and the model fit statistics. Does the CFA or the SEM model provide better fit? Provide an explanation for your conclusion."
   ]
  },
  {
   "cell_type": "code",
   "execution_count": null,
   "metadata": {},
   "outputs": [],
   "source": [
    "# Specify the model\n",
    "\n",
    "# Fit the model\n",
    "\n",
    "# Get the  estimates\n",
    "\n",
    "# Get the fit measures\n",
    "\n",
    "# Visualize the model"
   ]
  },
  {
   "cell_type": "markdown",
   "metadata": {},
   "source": [
    "## Voluntary exercise 1: Higher level factors\n",
    "\n",
    "Go back to your CFA model and add a higher level factor onto which all latent variables load onto. Name it `intelligence`. Does the higher level factor improve model fit?"
   ]
  },
  {
   "cell_type": "code",
   "execution_count": null,
   "metadata": {},
   "outputs": [],
   "source": [
    "# Specify the model\n",
    "\n",
    "# Fit the model\n",
    "\n",
    "# Print the model estimates\n",
    "\n",
    "# Print the model fit measures\n",
    "\n",
    "# Visualize the model"
   ]
  },
  {
   "cell_type": "markdown",
   "metadata": {},
   "source": [
    "## Voluntary exercise 2: Advanced models I\n",
    "\n",
    "Now go back to your SEM model and modify it in a way such that the factor variance of the `speed` factor is fixed to 1. How does that affect the interpretation of the loading associated with that factor?"
   ]
  },
  {
   "cell_type": "code",
   "execution_count": null,
   "metadata": {},
   "outputs": [],
   "source": [
    "# Specify the model\n",
    "\n",
    "# Fit the model\n",
    "\n",
    "# Print the model estimates\n",
    "\n",
    "# Get the fit measures\n",
    "\n",
    "# Visualize the model"
   ]
  },
  {
   "cell_type": "markdown",
   "metadata": {},
   "source": [
    "## Voluntary exercise 3: Advanced models II\n",
    "\n",
    "Re-load the dataset again, this time without deleting any variables. Specify and evaluate a model that tests the following hypothesis:\n",
    "\n",
    "- `x1`,`x2` and `x3` should load onto `visual`, `x4`,`x5` and `x6` shoud load onto `text`, `x7`,`x8` and `x9` should load onto `speed`.\n",
    "- `visual` and `text` load onto a higher level factor called `intelligence`.\n",
    "- `intelligence` explains 100% of the covariance between `visual` and `text`.\n",
    "- `intelligence` predicts `speed`. \n"
   ]
  },
  {
   "cell_type": "code",
   "execution_count": null,
   "metadata": {},
   "outputs": [],
   "source": [
    "# Load the entire dataset\n",
    "\n",
    "# Specify the model\n",
    "\n",
    "# Fit the model\n",
    "\n",
    "# Get model estimates\n",
    "\n",
    "# Get fit statistics\n",
    "\n",
    "# Visualize the model"
   ]
  }
 ],
 "metadata": {
  "kernelspec": {
   "display_name": "psy111",
   "language": "python",
   "name": "python3"
  },
  "language_info": {
   "codemirror_mode": {
    "name": "ipython",
    "version": 3
   },
   "file_extension": ".py",
   "mimetype": "text/x-python",
   "name": "python",
   "nbconvert_exporter": "python",
   "pygments_lexer": "ipython3",
   "version": "3.13.0"
  }
 },
 "nbformat": 4,
 "nbformat_minor": 2
}
