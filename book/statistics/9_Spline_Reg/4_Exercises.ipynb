{
 "cells": [
  {
   "cell_type": "markdown",
   "metadata": {},
   "source": [
    "# 9.4 Exercises"
   ]
  },
  {
   "cell_type": "markdown",
   "metadata": {},
   "source": [
    "## Exercise 1: Fitting stepwise functions\n",
    "\n",
    "The code below loads up the `wage` dataset which we also used for the previous examples today. \n",
    "\n",
    "Please fit a stepwise regression (i.e., a zero-order polynomial) and plot the model. Set the cutpoints in a way so that you have 4 bins. The first bin should range from the minumum age to a age of 30, the sencond one should range from >30 to 45, the third one from >45 to 50 and the fourth one should range from >50 to the maximum age. Shortly Interpret the output."
   ]
  },
  {
   "cell_type": "code",
   "execution_count": null,
   "metadata": {},
   "outputs": [],
   "source": [
    "# Load packages and dataset\n",
    "import pandas as pd\n",
    "import numpy as np\n",
    "import matplotlib.pyplot as plt\n",
    "import seaborn as sns\n",
    "from patsy import dmatrix\n",
    "import statsmodels.api as sm\n",
    "from ISLP import load_data\n",
    "df = load_data('Wage')\n",
    "\n",
    "##solutiom\n",
    "# Transform the predictor\n",
    "transformed_x = dmatrix(\"bs(age, knots=(30, 45, 50), degree=0, include_intercept=False)\",\n",
    "                        {\"age\": df['age']}, return_type='dataframe')\n",
    "\n",
    "# Fit the model\n",
    "zero_deg_model = sm.GLM(df['wage'], transformed_x).fit()\n",
    "\n",
    "# Print the model summary\n",
    "print(zero_deg_model.summary())\n",
    "\n",
    "# Plot the model\n",
    "plt.figure(figsize=(10, 6))\n",
    "xp = np.linspace(df['age'].min(), df['age'].max(), 100)\n",
    "transformed_xp = dmatrix(\"bs(xp, knots=(30, 45, 50), degree=0, include_intercept=False)\",\n",
    "                         {\"xp\": xp}, return_type='dataframe')\n",
    "\n",
    "pred = zero_deg_model.predict(transformed_xp)\n",
    "\n",
    "sns.scatterplot(x=df['age'], y=df['wage'], alpha=0.5, label='Data')\n",
    "plt.plot(xp, pred, label='stepwise fit', color='red')\n",
    "plt.title(\"Stepwise (zero-order) Fit\")\n",
    "plt.xlabel(\"Age\")\n",
    "plt.ylabel(\"Wage\")\n",
    "plt.legend().remove()\n",
    "plt.show()\n",
    "\n",
    "# The mean wage in the first bin is 86.72. \n",
    "# The difference between the first and the second bin is 27.78. This difference is significant.\n",
    "# The difference between the first and the third bin is 33.05. This difference is significant.\n",
    "# The difference between the first and the fourth bin is 29.74. This difference is significant.\n"
   ]
  },
  {
   "cell_type": "markdown",
   "metadata": {},
   "source": [
    "## Exercise 2: Fitting a second-order polynomial\n",
    "\n",
    "In the example before we fitted a first-order polynomial, meaning we fitted a separate linear regression in every bin (with some constraints, for details please refer to the lecture). This time, please fit a second order piecewise polynomial and plot the model. Use two cut points (40 and 60)."
   ]
  },
  {
   "cell_type": "code",
   "execution_count": null,
   "metadata": {},
   "outputs": [],
   "source": [
    "# Load the dataset\n",
    "df = load_data('Wage')\n",
    "\n",
    "##solution\n",
    "# Transform the predictor\n",
    "transformed_x = dmatrix(\"bs(age, knots=(40,60), degree=2, include_intercept=False)\",\n",
    "                        {\"age\": df['age']}, return_type='dataframe')\n",
    "\n",
    "# Fit the model\n",
    "sec_deg_model = sm.GLM(df['wage'], transformed_x).fit()\n",
    "\n",
    "# Print the model summary\n",
    "print(sec_deg_model.summary())\n",
    "\n",
    "# Plot the model\n",
    "plt.figure(figsize=(10, 6))\n",
    "xp = np.linspace(df['age'].min(), df['age'].max(), 100)\n",
    "transformed_xp = dmatrix(\"bs(xp, knots=(40,60), degree=2, include_intercept=False)\",\n",
    "                         {\"xp\": xp}, return_type='dataframe')\n",
    "\n",
    "pred = sec_deg_model.predict(transformed_xp)\n",
    "\n",
    "sns.scatterplot(x=df['age'], y=df['wage'], alpha=0.5, label='Data')\n",
    "plt.plot(xp, pred, label='stepwise fit', color='red')\n",
    "plt.title(\"Quadratic (second-dorder) Fit\")\n",
    "plt.xlabel(\"Age\")\n",
    "plt.ylabel(\"Wage\")\n",
    "plt.legend().remove()\n",
    "plt.show()"
   ]
  },
  {
   "cell_type": "markdown",
   "metadata": {},
   "source": [
    "## Exercise 3: Fitting a third order polynomial\n",
    "\n",
    "Now, increase the order of your polynomial once more. This will give you a third-order piecewise polynomial, often refered to a spline regression. Use the same cut points as for the second-order piecewise polynomial."
   ]
  },
  {
   "cell_type": "code",
   "execution_count": null,
   "metadata": {},
   "outputs": [],
   "source": [
    "# Load the dataset\n",
    "df = load_data('Wage')\n",
    "\n",
    "##solution\n",
    "# Transform the predictor\n",
    "transformed_x = dmatrix(\"bs(age, knots=(40,60), degree=3, include_intercept=False)\",\n",
    "                        {\"age\": df['age']}, return_type='dataframe')\n",
    "\n",
    "# Fit the model\n",
    "thir_deg_model = sm.GLM(df['wage'], transformed_x).fit()\n",
    "\n",
    "# Print the model summary\n",
    "print(thir_deg_model.summary())\n",
    "\n",
    "# Plot the model\n",
    "plt.figure(figsize=(10, 6))\n",
    "xp = np.linspace(df['age'].min(), df['age'].max(), 100)\n",
    "transformed_xp = dmatrix(\"bs(xp, knots=(40,60), degree=3, include_intercept=False)\",\n",
    "                         {\"xp\": xp}, return_type='dataframe')\n",
    "\n",
    "pred = thir_deg_model.predict(transformed_xp)\n",
    "\n",
    "sns.scatterplot(x=df['age'], y=df['wage'], alpha=0.5, label='Data')\n",
    "plt.plot(xp, pred, label='stepwise fit', color='red')\n",
    "plt.title(\"Cubic (third-order) Fit\")\n",
    "plt.xlabel(\"Age\")\n",
    "plt.ylabel(\"Wage\")\n",
    "plt.legend().remove()\n",
    "plt.show()"
   ]
  },
  {
   "cell_type": "markdown",
   "metadata": {},
   "source": [
    "## Voluntary Exercise 1: Choosing the degree of you polynomial\n",
    "\n",
    "Now that we fitted multple models, one question is still remaining: Which one do we choose? To decide on that we will use the `AIC` (note that there are also other measures). Find out to get the AICs of the second-order and the third-order model and decide which one provides the better fit."
   ]
  },
  {
   "cell_type": "code",
   "execution_count": null,
   "metadata": {},
   "outputs": [],
   "source": [
    "# Load the dataset\n",
    "df = load_data('Wage')\n",
    "\n",
    "##solution\n",
    "# Third-order model\n",
    "# Transform the predictor\n",
    "transformed_x = dmatrix(\"bs(age, knots=(40,60), degree=3, include_intercept=False)\",\n",
    "                        {\"age\": df['age']}, return_type='dataframe')\n",
    "\n",
    "# Fit the model\n",
    "thir_deg_model = sm.GLM(df['wage'], transformed_x).fit()\n",
    "\n",
    "\n",
    "# Second-order model\n",
    "# Transform the predictor\n",
    "transformed_x = dmatrix(\"bs(age, knots=(40,60), degree=2, include_intercept=False)\",\n",
    "                        {\"age\": df['age']}, return_type='dataframe')\n",
    "\n",
    "# Fit the model\n",
    "sec_deg_model = sm.GLM(df['wage'], transformed_x).fit()\n",
    "\n",
    "# Get AICs\n",
    "print(thir_deg_model.aic)\n",
    "print(sec_deg_model.aic) # Smaller AIC, better model"
   ]
  },
  {
   "cell_type": "markdown",
   "metadata": {},
   "source": [
    "## Voluntary Exercise 2: Advanced Plots\n",
    "\n",
    "You might have noticed that sometimes it is hard to see the cutpoints, especially when two bins share very similar estimates (see ). Therefore, it makes sense to highlight the cut points somehow when plotting the models. \n",
    "\n",
    "Copy your code from Exercise 1 and modify the code for the plot so that the cut points are marked by vertical lines. \n",
    "\n",
    "Bonus: Make your code dynamic. This means, if you change your cut points in the function call, the code which produces the plot will automatically adapt itself. "
   ]
  },
  {
   "cell_type": "code",
   "execution_count": null,
   "metadata": {},
   "outputs": [],
   "source": [
    "# Load the dataset\n",
    "df = load_data('Wage')\n",
    "\n",
    "##solution\n",
    "cutpoints = [50,55,60,65]\n",
    "\n",
    "# Transform the predictor\n",
    "formula = f\"bs(age, knots=({', '.join(map(str, cutpoints))}), degree=0, include_intercept=False)\"\n",
    "transformed_x = dmatrix(formula, {\"age\": df['age']}, return_type='dataframe')\n",
    "\n",
    "# Fit the model\n",
    "zero_deg_model = sm.GLM(df['wage'], transformed_x).fit()\n",
    "\n",
    "# Plot des model\n",
    "plt.figure(figsize=(10, 6))\n",
    "xp = np.linspace(df['age'].min(), df['age'].max(), 100)\n",
    "transformed_xp = dmatrix(formula, {\"age\": xp}, return_type='dataframe')\n",
    "\n",
    "pred = zero_deg_model.predict(transformed_xp)\n",
    "\n",
    "sns.scatterplot(x=df['age'], y=df['wage'], alpha=0.5, label='Data')\n",
    "plt.plot(xp, pred, label='Stepwise fit', color='red')\n",
    "\n",
    "for cut in cutpoints:\n",
    "    plt.axvline(x=cut, color='blue', linestyle='--', label=f'Cutpoint at {cut}')\n",
    "\n",
    "plt.title(\"Stepwise (zero-order) Fit with Dynamic Cutpoints\")\n",
    "plt.xlabel(\"Age\")\n",
    "plt.ylabel(\"Wage\")\n",
    "plt.legend()\n",
    "plt.show()\n",
    "\n"
   ]
  }
 ],
 "metadata": {
  "kernelspec": {
   "display_name": "psy111",
   "language": "python",
   "name": "python3"
  },
  "language_info": {
   "codemirror_mode": {
    "name": "ipython",
    "version": 3
   },
   "file_extension": ".py",
   "mimetype": "text/x-python",
   "name": "python",
   "nbconvert_exporter": "python",
   "pygments_lexer": "ipython3",
   "version": "3.12.4"
  }
 },
 "nbformat": 4,
 "nbformat_minor": 2
}
