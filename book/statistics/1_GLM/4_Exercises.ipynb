{
 "cells": [
  {
   "cell_type": "markdown",
   "metadata": {},
   "source": [
    "# 6.4 Exercises"
   ]
  },
  {
   "cell_type": "markdown",
   "metadata": {},
   "source": [
    "## Exercise 1: Correlations\n",
    "\n",
    "1. Loading the data\n",
    "\n",
    "- Load the `diabetes` dataset through the `sklearn` library \n",
    "- Use the `DESCR` attribute of the data set to get its description. Understand the variables, their meanings, and how they relate to the medical context (e.g., what each feature like BMI, age, and blood pressure represents in the context of diabetes).\n",
    "\n",
    "*Hint: If you're using a Jupyter Notebook, make sure to select any of \"View as a scrollable element or open in a text editor\" at the bottom of the output to see the entire description.*\n",
    "\n",
    "2. Preparing the data\n",
    "\n",
    "- Look at the documentation of the `load_diabetes()` function to see which outpt it returns\n",
    "- Create an observation matrix `X` containing the data and a target vector `y` containing the target (diabetes progression)\n",
    "- Create a unified DataFrame combining X and y. Rename the `target` (y) column to `diabetes`\n",
    "- Compute the correlation matrix for all columns in the data\n",
    "\n",
    "3. Visualizing the data\n",
    "\n",
    "- Plot the correlation matrix by using `seaborn`'s `heatmap()` function. The plot should have the following featurees:\n",
    "    - The cells in the plot should be annotated with the correlation values\n",
    "    - The colormap should be `\"coolwarm\"` (it's a good choice for correlation values)\n",
    "    - The colorbar should range from `-1` to `1` (because this is the full range correlation values can take)\n",
    "    - The cells in the plot should be quare (just because it looks nice)\n",
    "    - The cells should be separated with lines of width `1` (also because it looks nice)\n",
    "-  Identify the variable that shows the highest correlation (positive or negative) with the target variable (diabetes progression)"
   ]
  },
  {
   "cell_type": "code",
   "execution_count": 16,
   "metadata": {},
   "outputs": [],
   "source": [
    "import pandas as pd\n",
    "import seaborn as sns\n",
    "import matplotlib.pyplot as plt\n",
    "from sklearn import datasets\n",
    "\n",
    "# TODO: Exercise 1"
   ]
  },
  {
   "cell_type": "markdown",
   "metadata": {},
   "source": [
    "## Exercise 2: Partial Correaltion\n",
    "\n",
    "Age could be influencing both BMI and diabetes progression. As people age, both their BMI and risk for diabetes may increase, potentially inflating the observed correlation between BMI and diabetes progression. By holding age constant, we can test whether the relationship between BMI and diabetes progression persists independently of age.\n",
    "\n",
    "Hypothesis:\n",
    "\n",
    "- Null Hypothesis ($H_0$​): There is no relationship between BMI and diabetes progression after controlling for age.\n",
    "- Alternative Hypothesis ($H_1$​): There is a relationship between BMI and diabetes progression, even after controlling for age.\n",
    "\n",
    "Tasks:\n",
    "\n",
    "- Use the `pingouin` library to calculate the partial correlation between BMI and diabetes progression, controlling for age.\n",
    "- Compare the partial correlation coefficient to the original Pearson correlation coefficient. Did the correlation decrease after accounting for age? What does this suggest about age as a confounding factor?\n"
   ]
  },
  {
   "cell_type": "code",
   "execution_count": 17,
   "metadata": {},
   "outputs": [],
   "source": [
    "import pingouin as pg\n",
    "\n",
    "# TODO: Exercise 2"
   ]
  },
  {
   "cell_type": "markdown",
   "metadata": {},
   "source": [
    "## Exercise 3: Multiple linear regression\n",
    "\n",
    "1. Estimate a *multiple linear regression model* using the three variables that show the highest correlation with diabetes progression as the predictors, and diabetes progression as the outcome variable.\n",
    "2. Estimate a second model with different predictors.\n",
    "2. Compare the models. What is their *R-squared value*? What does it tell you about the performance of the models?\n",
    "\n",
    "*Tip: When working in Jupyter Notebooks, it might make sense to put different models/computations in separate code cells, so they can be evaluated individually and the outputs are easier to read.*\n",
    "\n",
    "**Additional note:** This exercise asks you to use the three highest correlated variables in the first model. This can be useful as an exploratory step, but brings many potential issues such as potentially high multicollinearity or the risk of overfitting. These topics will be covered later in the year."
   ]
  },
  {
   "cell_type": "code",
   "execution_count": 18,
   "metadata": {},
   "outputs": [],
   "source": [
    "import statsmodels.formula.api as smf\n",
    "\n",
    "# TODO: Exercise 3.1"
   ]
  },
  {
   "cell_type": "code",
   "execution_count": 19,
   "metadata": {},
   "outputs": [],
   "source": [
    "# TODO: Exercise 3.2"
   ]
  }
 ],
 "metadata": {
  "kernelspec": {
   "display_name": "psy111",
   "language": "python",
   "name": "python3"
  },
  "language_info": {
   "codemirror_mode": {
    "name": "ipython",
    "version": 3
   },
   "file_extension": ".py",
   "mimetype": "text/x-python",
   "name": "python",
   "nbconvert_exporter": "python",
   "pygments_lexer": "ipython3",
   "version": "3.13.0"
  }
 },
 "nbformat": 4,
 "nbformat_minor": 2
}
