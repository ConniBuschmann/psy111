{
 "cells": [
  {
   "cell_type": "markdown",
   "metadata": {},
   "source": [
    "# 6.4 Exercises"
   ]
  },
  {
   "cell_type": "markdown",
   "metadata": {},
   "source": [
    "## Exercise 1: Data preparation\n",
    "\n",
    "We will use the diabetes data set from the `sklearn` library for the following three exercises.\n",
    "\n",
    "1. Loading the data\n",
    "    - The code for loading the dataset is already provided. Look at the [documentation](https://scikit-learn.org/1.5/modules/generated/sklearn.datasets.load_diabetes.html) of the `load_diabetes()` function to familiarize yourself with the function and its outputs.\n",
    "    - Use the `DESCR` attribute of the data set to get its description. Understand the variables, their meanings, and how they relate to the medical context (e.g., what each feature like BMI, age, and blood pressure represents in the context of diabetes).\n",
    "\n",
    "2. Preparing the data\n",
    "    - Rename the `target` column of the to `diabetes` by using the `.rename()` method of the DataFrame. Search for its documentation if you are unsure how to use it.\n",
    "    - Print the DataFrame for visual inspection.\n",
    "\n",
    "*Hints:*\n",
    "- *If you're using a local Python installation, you will need to install some packages:`pip install scikit-learn seaborn pingouin`. Make sure to install them in the `psy111` environment*\n",
    "- *If you are using Goolge Colab, you only need to install the pingouin package by creating a code cell at the top of the script and writing: `!pip install pingouin`.* \n",
    "- *If you're using a Jupyter Notebook, make sure to select any of \"View as a scrollable element or open in a text editor\" at the bottom of the output to see the entire description.*"
   ]
  },
  {
   "cell_type": "code",
   "execution_count": 22,
   "metadata": {},
   "outputs": [],
   "source": [
    "import pandas as pd\n",
    "import seaborn as sns\n",
    "import matplotlib.pyplot as plt\n",
    "import statsmodels.formula.api as smf\n",
    "import pingouin as pg\n",
    "from sklearn import datasets"
   ]
  },
  {
   "cell_type": "code",
   "execution_count": 23,
   "metadata": {},
   "outputs": [],
   "source": [
    "# 1. Load the data\n",
    "diabetes = datasets.load_diabetes(as_frame=True)\n",
    "diabetes_df = diabetes.frame\n",
    "\n",
    "# 2. Preparing the data"
   ]
  },
  {
   "cell_type": "markdown",
   "metadata": {},
   "source": [
    "## Exercise 1: Multiple linear regression\n",
    "\n",
    "1. Estimate a *multiple linear regression model* using `bmi`, `bp`, and `s5` to predict diabetes progression (`diabetes`).\n",
    "2. Estimate a second model with different predictors.\n",
    "2. Compare the models. What is their *R-squared value*? What does it tell you about the performance of the models?\n",
    "\n",
    "*Tip: When working in Jupyter Notebooks, it might make sense to put different models/computations in separate code cells, so they can be evaluated individually and the outputs are easier to read.*"
   ]
  },
  {
   "cell_type": "code",
   "execution_count": 24,
   "metadata": {},
   "outputs": [],
   "source": [
    "# Exercise 1.1"
   ]
  },
  {
   "cell_type": "code",
   "execution_count": 25,
   "metadata": {},
   "outputs": [],
   "source": [
    "# Exercise 1.2"
   ]
  },
  {
   "cell_type": "markdown",
   "metadata": {},
   "source": [
    "## Exercise 2: Correlations\n",
    "\n",
    "1. Correlations\n",
    "    - Compute the correlation matrix for all columns in the data\n",
    "    - Print the shape of the correlation matrix. What shape does it have, and why?\n",
    "\n",
    "2. Visualizing the data\n",
    "    - Plot the correlation matrix by using `seaborn`'s `heatmap()` function. The plot should have the following featurees:\n",
    "        - The cells in the plot should be annotated with the correlation values\n",
    "        - The colormap should be `\"coolwarm\"` (it's a good choice for correlation values)\n",
    "        - The colorbar should range from `-1` to `1` (because this is the full range correlation values can take)\n",
    "        - The cells in the plot should be quare (just because it looks nice)\n",
    "        - The cells should be separated with lines of width `1` (also because it looks nice)\n",
    "    -  Throug visual inspection, identify the variable that shows the highest correlation (positive or negative) with the target variable (diabetes progression)"
   ]
  },
  {
   "cell_type": "code",
   "execution_count": 26,
   "metadata": {},
   "outputs": [],
   "source": [
    "# Exercise 2"
   ]
  },
  {
   "cell_type": "markdown",
   "metadata": {},
   "source": [
    "## Exercise 3: Partial Correlation\n",
    "\n",
    "Age could be influencing both BMI and diabetes progression. As people age, both their BMI and risk for diabetes may increase, potentially inflating the observed correlation between BMI and diabetes progression. By holding age constant, we can test whether the relationship between BMI and diabetes progression persists independently of age.\n",
    "\n",
    "Hypothesis:\n",
    "\n",
    "- Null Hypothesis ($H_0$​): There is no relationship between BMI and diabetes progression after controlling for age.\n",
    "- Alternative Hypothesis ($H_1$​): There is a relationship between BMI and diabetes progression, even after controlling for age.\n",
    "\n",
    "Tasks:\n",
    "\n",
    "- Use the `pingouin` library to calculate the partial correlation between BMI and diabetes progression, controlling for age.\n",
    "- Compare the partial correlation coefficient to the original Pearson correlation coefficient. Did the correlation decrease after accounting for age? What does this suggest about age as a confounding factor?\n"
   ]
  },
  {
   "cell_type": "code",
   "execution_count": 27,
   "metadata": {},
   "outputs": [],
   "source": [
    "# Exercise 3"
   ]
  },
  {
   "cell_type": "markdown",
   "metadata": {},
   "source": [
    "## Voluntary exercise 1: Data wrangling\n",
    "\n",
    "We have previously loaded the diabetes dataset with the `as_frame=True` argument. If we do not specify this argument, the combined DataFrame will not be provided, but rather the data, target, and labels will be returned separately.\n",
    "\n",
    "1. Familiarize yourself with the returns of the `load_diabetes()`function.\n",
    "2. What kind of data types are the data, target, and labels?\n",
    "3. Manually create the joint DataFrame by combining the data, target, and labels.\n",
    "4. Verify that your operations were succesful (e.g. by printing the joint DataFrame).\n",
    "\n",
    "*Hint: There are multiple ways for creating a joint DataFrame. Have a look at section 5.2 if you need a refresher. You could, for example, join two DataFrames/Serier, or you could just add a new column to an existing DataFrame. Feel free to experiment! :)*\n"
   ]
  },
  {
   "cell_type": "code",
   "execution_count": 28,
   "metadata": {},
   "outputs": [],
   "source": [
    "# Voluntary exercise 1"
   ]
  }
 ],
 "metadata": {
  "kernelspec": {
   "display_name": "psy111",
   "language": "python",
   "name": "python3"
  },
  "language_info": {
   "codemirror_mode": {
    "name": "ipython",
    "version": 3
   },
   "file_extension": ".py",
   "mimetype": "text/x-python",
   "name": "python",
   "nbconvert_exporter": "python",
   "pygments_lexer": "ipython3",
   "version": "3.13.0"
  }
 },
 "nbformat": 4,
 "nbformat_minor": 2
}
