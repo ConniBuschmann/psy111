{
 "cells": [
  {
   "cell_type": "markdown",
   "metadata": {},
   "source": [
    "# 5.4 Exercises\n",
    "\n",
    "## Exercise 1: Correlations\n",
    "\n",
    "1. Load the `diabetes` dataset from the `sklearn`library and use `dataset.DESCR` to read the dataset description. Understand the variables, their meanings, and how they relate to the medical context (e.g., what each feature like BMI, age, and blood pressure represents in the context of diabetes).\n",
    "2. Using `pandas`, compute the **correlation matrix** for all features and the target variable (diabetes progression).\n",
    "3. Create a *heatmap* using `seaborn` to visually display the correlation matrix. Include annotations to display the exact correlation values inside each cell.\n",
    "4. Analyse the heatmap and identify the variable that shows the highest correlation (positive or negative) with the target variable (diabetes progression).\n"
   ]
  },
  {
   "cell_type": "code",
   "execution_count": null,
   "metadata": {},
   "outputs": [],
   "source": [
    "import pandas as pd\n",
    "import seaborn as sns\n",
    "import matplotlib.pyplot as plt\n",
    "from sklearn import datasets\n",
    "\n",
    "# Load the diabetes dataset from sklearn\n",
    "dataset = datasets.load_diabetes(as_frame=True)\n",
    "\n",
    "# Create observations matrix (X) and target vector (y)\n",
    "X, y = dataset.data, dataset.target\n",
    "\n",
    "# Create a unified DataFrame containing both predictors and target\n",
    "data = pd.concat([X, y.rename('diabetes')], axis=1)\n",
    "\n",
    "\n",
    "##solution\n",
    "\n",
    "# Calculate the correlation matrix using pandas (this avoids NumPy)\n",
    "correlation_matrix = data.corr()\n",
    "\n",
    "# Plot the correlation matrix using seaborn\n",
    "plt.figure(figsize=(8, 8))\n",
    "sns.heatmap(\n",
    "    correlation_matrix,\n",
    "    annot=True,  # Show the values of the correlations\n",
    "    cmap=\"vlag\",  # Colormap\n",
    "    vmin=-1,  # Min value for colormap\n",
    "    vmax=1,  # Max value for colormap\n",
    "    square=True,  # Square cells\n",
    "    fmt='.2f',  # Format float to 2 decimal points\n",
    "    annot_kws={'size': 12},  # Font size of annotations\n",
    "    xticklabels=correlation_matrix.columns,  # x-axis labels\n",
    "    yticklabels=correlation_matrix.columns  # y-axis labels\n",
    ")\n",
    "plt.title('Correlation Matrix Heatmap')\n",
    "plt.tight_layout()\n",
    "plt.show()\n",
    "\n"
   ]
  },
  {
   "cell_type": "markdown",
   "metadata": {},
   "source": [
    "## Exercise 2: Partial Correaltion\n",
    "Age could be influencing both BMI and diabetes progression. As people age, both their BMI and risk for diabetes may increase, which could inflate the observed correlation between BMI and diabetes. By holding age constant, we remove its effect and get a clearer picture of the true relationship between BMI and diabetes progression.\n",
    "\n",
    "1. Use the `Pingouin` library to calculate the **partial correlation** between BMI and diabetes progression, controlling for age.\n",
    "2. Did the Partial Correlation Decrease after controlling for age? Compare with the original Pearson correaltion."
   ]
  },
  {
   "cell_type": "code",
   "execution_count": 1,
   "metadata": {},
   "outputs": [
    {
     "ename": "NameError",
     "evalue": "name 'data' is not defined",
     "output_type": "error",
     "traceback": [
      "\u001b[1;31m---------------------------------------------------------------------------\u001b[0m",
      "\u001b[1;31mNameError\u001b[0m                                 Traceback (most recent call last)",
      "Cell \u001b[1;32mIn[1], line 5\u001b[0m\n\u001b[0;32m      2\u001b[0m \u001b[38;5;28;01mimport\u001b[39;00m \u001b[38;5;21;01mpingouin\u001b[39;00m \u001b[38;5;28;01mas\u001b[39;00m \u001b[38;5;21;01mpg\u001b[39;00m\n\u001b[0;32m      4\u001b[0m \u001b[38;5;66;03m# Calculate partial correlation between BMI and diabetes progression, controlling for age\u001b[39;00m\n\u001b[1;32m----> 5\u001b[0m partial_corr \u001b[38;5;241m=\u001b[39m pg\u001b[38;5;241m.\u001b[39mpartial_corr(data\u001b[38;5;241m=\u001b[39m\u001b[43mdata\u001b[49m, x\u001b[38;5;241m=\u001b[39m\u001b[38;5;124m'\u001b[39m\u001b[38;5;124mbmi\u001b[39m\u001b[38;5;124m'\u001b[39m, y\u001b[38;5;241m=\u001b[39m\u001b[38;5;124m'\u001b[39m\u001b[38;5;124mdiabetes\u001b[39m\u001b[38;5;124m'\u001b[39m, covar\u001b[38;5;241m=\u001b[39m\u001b[38;5;124m'\u001b[39m\u001b[38;5;124mage\u001b[39m\u001b[38;5;124m'\u001b[39m)\n\u001b[0;32m      7\u001b[0m \u001b[38;5;66;03m# Display the results\u001b[39;00m\n\u001b[0;32m      8\u001b[0m \u001b[38;5;28mprint\u001b[39m(partial_corr)\n",
      "\u001b[1;31mNameError\u001b[0m: name 'data' is not defined"
     ]
    }
   ],
   "source": [
    "#solution\n",
    "import pingouin as pg\n",
    "\n",
    "# Calculate partial correlation between BMI and diabetes progression, controlling for age\n",
    "partial_corr = pg.partial_corr(data=data, x='bmi', y='diabetes', covar='age')\n",
    "\n",
    "# Display the results\n",
    "print(partial_corr)\n"
   ]
  },
  {
   "cell_type": "markdown",
   "metadata": {},
   "source": [
    "## Exercise 3: Multiple linear Regression\n",
    "1. Build a **multiple linear regression model** using the three highest correlated variables as the independent variables and diabetes progression as the dependent variable.\n",
    "2. What does the **R-squared value** tell you about the model’s performance? "
   ]
  },
  {
   "cell_type": "code",
   "execution_count": null,
   "metadata": {},
   "outputs": [],
   "source": [
    "#solution\n",
    "import statsmodels.api as sm\n",
    "import statsmodels.formula.api as smf\n",
    "model = smf.ols(formula='diabetes ~ bmi + bp + s5', data=data).fit()\n",
    "model.summary()"
   ]
  }
 ],
 "metadata": {
  "kernelspec": {
   "display_name": "psy111",
   "language": "python",
   "name": "python3"
  },
  "language_info": {
   "codemirror_mode": {
    "name": "ipython",
    "version": 3
   },
   "file_extension": ".py",
   "mimetype": "text/x-python",
   "name": "python",
   "nbconvert_exporter": "python",
   "pygments_lexer": "ipython3",
   "version": "3.12.5"
  }
 },
 "nbformat": 4,
 "nbformat_minor": 2
}
