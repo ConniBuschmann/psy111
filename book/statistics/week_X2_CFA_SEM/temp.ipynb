{
 "cells": [
  {
   "cell_type": "code",
   "execution_count": 5,
   "metadata": {},
   "outputs": [
    {
     "name": "stdout",
     "output_type": "stream",
     "text": [
      "      id  sex  ageyr  agemo       school  grade        x1    x2     x3  \\\n",
      "1      1    1     13      1      Pasteur    7.0  3.333333  7.75  0.375   \n",
      "2      2    2     13      7      Pasteur    7.0  5.333333  5.25  2.125   \n",
      "3      3    2     13      1      Pasteur    7.0  4.500000  5.25  1.875   \n",
      "4      4    1     13      2      Pasteur    7.0  5.333333  7.75  3.000   \n",
      "5      5    2     12      2      Pasteur    7.0  4.833333  4.75  0.875   \n",
      "..   ...  ...    ...    ...          ...    ...       ...   ...    ...   \n",
      "297  346    1     13      5  Grant-White    8.0  4.000000  7.00  1.375   \n",
      "298  347    2     14     10  Grant-White    8.0  3.000000  6.00  1.625   \n",
      "299  348    2     14      3  Grant-White    8.0  4.666667  5.50  1.875   \n",
      "300  349    1     14      2  Grant-White    8.0  4.333333  6.75  0.500   \n",
      "301  351    1     13      5  Grant-White    NaN  4.333333  6.00  3.375   \n",
      "\n",
      "           x4    x5        x6        x7    x8        x9  \n",
      "1    2.333333  5.75  1.285714  3.391304  5.75  6.361111  \n",
      "2    1.666667  3.00  1.285714  3.782609  6.25  7.916667  \n",
      "3    1.000000  1.75  0.428571  3.260870  3.90  4.416667  \n",
      "4    2.666667  4.50  2.428571  3.000000  5.30  4.861111  \n",
      "5    2.666667  4.00  2.571429  3.695652  6.30  5.916667  \n",
      "..        ...   ...       ...       ...   ...       ...  \n",
      "297  2.666667  4.25  1.000000  5.086957  5.60  5.250000  \n",
      "298  2.333333  4.00  1.000000  4.608696  6.05  6.083333  \n",
      "299  3.666667  5.75  4.285714  4.000000  6.00  7.611111  \n",
      "300  3.666667  4.50  2.000000  5.086957  6.20  4.388889  \n",
      "301  3.666667  5.75  3.142857  4.086957  6.95  5.166667  \n",
      "\n",
      "[301 rows x 15 columns]\n"
     ]
    }
   ],
   "source": [
    "# Load and inspect the dataset \n",
    "from semopy.examples import holzinger39\n",
    "data = holzinger39.get_data()\n",
    "print(data)"
   ]
  },
  {
   "cell_type": "markdown",
   "metadata": {},
   "source": [
    "---\n"
   ]
  },
  {
   "cell_type": "code",
   "execution_count": 6,
   "metadata": {},
   "outputs": [
    {
     "name": "stdout",
     "output_type": "stream",
     "text": [
      "      lval  op    rval  Estimate  Std. Err    z-value   p-value\n",
      "0       x1   ~  visual  1.000000         -          -         -\n",
      "1       x2   ~  visual  0.554421  0.099727   5.559413       0.0\n",
      "2       x3   ~  visual  0.730526   0.10918   6.691009       0.0\n",
      "3       x4   ~    text  1.000000         -          -         -\n",
      "4       x5   ~    text  1.113076  0.065392  17.021522       0.0\n",
      "5       x6   ~    text  0.926120  0.055425  16.709493       0.0\n",
      "6       x7   ~   speed  1.000000         -          -         -\n",
      "7       x8   ~   speed  1.179980  0.165045   7.149459       0.0\n",
      "8       x9   ~   speed  1.082517  0.151354   7.152197       0.0\n",
      "9    speed  ~~   speed  0.383377  0.086171   4.449045  0.000009\n",
      "10   speed  ~~    text  0.173603  0.049316   3.520223  0.000431\n",
      "11   speed  ~~  visual  0.262135  0.056252   4.659977  0.000003\n",
      "12    text  ~~    text  0.980034  0.112145   8.739002       0.0\n",
      "13  visual  ~~  visual  0.808310  0.145287   5.563548       0.0\n",
      "14  visual  ~~    text  0.408277  0.073527    5.55273       0.0\n",
      "15      x1  ~~      x1  0.550161  0.113439    4.84983  0.000001\n",
      "16      x2  ~~      x2  1.133391  0.101711  11.143202       0.0\n",
      "17      x3  ~~      x3  0.843731  0.090625    9.31016       0.0\n",
      "18      x4  ~~      x4  0.371117  0.047712   7.778264       0.0\n",
      "19      x5  ~~      x5  0.446208  0.058387   7.642264       0.0\n",
      "20      x6  ~~      x6  0.356171   0.04303   8.277334       0.0\n",
      "21      x7  ~~      x7  0.799708  0.081387   9.825966       0.0\n",
      "22      x8  ~~      x8  0.487934  0.074167   6.578856       0.0\n",
      "23      x9  ~~      x9  0.565804  0.070757   7.996483       0.0\n",
      "                      Value\n",
      "DoF            2.400000e+01\n",
      "DoF Baseline   3.600000e+01\n",
      "chi2           8.530573e+01\n",
      "chi2 p-value   8.501896e-09\n",
      "chi2 Baseline  9.188516e+02\n",
      "CFI            9.305594e-01\n",
      "GFI            9.071605e-01\n",
      "AGFI           8.607407e-01\n",
      "NFI            9.071605e-01\n",
      "TLI            8.958391e-01\n",
      "RMSEA          9.227505e-02\n",
      "AIC            4.143318e+01\n",
      "BIC            1.192825e+02\n",
      "LogLik         2.834077e-01\n"
     ]
    }
   ],
   "source": [
    "# Specify the model\n",
    "desc = '''visual =~ x1 + x2 + x3\n",
    "text =~ x4 + x5 + x6\n",
    "speed =~ x7 + x8 + x9'''\n",
    "\n",
    "# Fit the model\n",
    "mod = Model(desc)\n",
    "res_opt = mod.fit(data)\n",
    "estimates = mod.inspect()\n",
    "\n",
    "# Print model estimates\n",
    "print(estimates)\n",
    "\n",
    "# Show fit statistics\n",
    "stats = semopy.calc_stats(mod)\n",
    "print(stats.T)\n",
    "\n",
    "from semopy import semplot\n",
    "g = semplot(mod, filename='t.pdf')\n",
    "g"
   ]
  },
  {
   "cell_type": "code",
   "execution_count": 7,
   "metadata": {},
   "outputs": [
    {
     "name": "stdout",
     "output_type": "stream",
     "text": [
      "      lval  op    rval  Estimate  Std. Err    z-value   p-value\n",
      "0       x1   ~  visual  1.000000         -          -         -\n",
      "1       x2   ~  visual  0.777690  0.140577   5.532121       0.0\n",
      "2       x3   ~  visual  1.106134  0.213713   5.175797       0.0\n",
      "3       x4   ~    text  1.000000         -          -         -\n",
      "4       x5   ~    text  1.132942  0.067026  16.903003       0.0\n",
      "5       x6   ~    text  0.924249  0.056397  16.388161       0.0\n",
      "6       x7   ~   speed  1.000000         -          -         -\n",
      "7       x8   ~   speed  1.225004  0.189741    6.45619       0.0\n",
      "8       x9   ~   speed  0.854879  0.121394   7.042191       0.0\n",
      "9    speed  ~~  visual  0.000000         -          -         -\n",
      "10   speed  ~~    text  0.000000         -          -         -\n",
      "11   speed  ~~   speed  0.436378  0.096596   4.517579  0.000006\n",
      "12    text  ~~  visual  0.000000         -          -         -\n",
      "13    text  ~~    text  0.968662   0.11212   8.639478       0.0\n",
      "14  visual  ~~  visual  0.524296  0.130307   4.023553  0.000057\n",
      "15      x1  ~~      x1  0.834191  0.118174   7.059036       0.0\n",
      "16      x2  ~~      x2  1.064637  0.104633  10.174933       0.0\n",
      "17      x3  ~~      x3  0.633474  0.129037   4.909248  0.000001\n",
      "18      x4  ~~      x4  0.381652  0.048902   7.804458       0.0\n",
      "19      x5  ~~      x5  0.416184  0.059129   7.038589       0.0\n",
      "20      x6  ~~      x6  0.368783  0.044073   8.367492       0.0\n",
      "21      x7  ~~      x7  0.746228  0.086244   8.652507       0.0\n",
      "22      x8  ~~      x8  0.366430  0.096487     3.7977  0.000146\n",
      "23      x9  ~~      x9  0.695777  0.072202   9.636564       0.0\n",
      "                    Value\n",
      "DoF             27.000000\n",
      "DoF Baseline    36.000000\n",
      "chi2           153.527262\n",
      "chi2 p-value     0.000000\n",
      "chi2 Baseline  918.851637\n",
      "CFI              0.856683\n",
      "GFI              0.832914\n",
      "AGFI             0.777219\n",
      "NFI              0.832914\n",
      "TLI              0.808911\n",
      "RMSEA            0.124983\n",
      "AIC             34.979885\n",
      "BIC            101.707870\n",
      "LogLik           0.510057\n"
     ]
    }
   ],
   "source": [
    "# Specify the model\n",
    "desc2 = '''visual =~ x1 + x2 + x3\n",
    "text =~ x4 + x5 + x6\n",
    "speed =~ x7 + x8 + x9\n",
    "# Set correlations to zero\n",
    "speed ~~ 0 * visual\n",
    "speed ~~ 0 * text\n",
    "text ~~ 0 * visual'''\n",
    "\n",
    "# Fit the model\n",
    "mod2 = Model(desc2)\n",
    "res_opt2 = mod2.fit(data)\n",
    "estimates2 = mod2.inspect()\n",
    "\n",
    "# Print model estimates\n",
    "print(estimates2)\n",
    "\n",
    "# Show fit statistics\n",
    "stats2 = semopy.calc_stats(mod2)\n",
    "print(stats2.T)"
   ]
  }
 ],
 "metadata": {
  "kernelspec": {
   "display_name": "psy111",
   "language": "python",
   "name": "python3"
  },
  "language_info": {
   "codemirror_mode": {
    "name": "ipython",
    "version": 3
   },
   "file_extension": ".py",
   "mimetype": "text/x-python",
   "name": "python",
   "nbconvert_exporter": "python",
   "pygments_lexer": "ipython3",
   "version": "3.12.4"
  }
 },
 "nbformat": 4,
 "nbformat_minor": 2
}
