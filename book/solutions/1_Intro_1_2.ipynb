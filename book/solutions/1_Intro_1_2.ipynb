{
 "cells": [
  {
   "cell_type": "markdown",
   "metadata": {},
   "source": [
    "# 2.7 Exercises 2"
   ]
  },
  {
   "cell_type": "markdown",
   "metadata": {},
   "source": [
    "## Exercise 1: Reaction Time Data Analysis\n",
    "\n",
    "Given a list of reaction times (in milliseconds) from a cognitive task, calculate the average reaction time, and count how many trials had reaction times faster than a threshold (e.g. 300 ms)."
   ]
  },
  {
   "cell_type": "code",
   "execution_count": 8,
   "metadata": {},
   "outputs": [],
   "source": [
    "reaction_times = [250, 320, 300, 450, 280, 310, 290, 510, 305, 330]\n",
    "threshold = 300\n",
    "\n",
    "# Average reaction time\n",
    "total_time = 0\n",
    "for time in reaction_times:\n",
    "    total_time += time\n",
    "\n",
    "average_time = total_time / len(reaction_times)\n",
    "print(f\"Average reaction time: {average_time} ms\")\n",
    "\n",
    "# Count number of trials faster than threshold\n",
    "fast_trials = 0\n",
    "for time in reaction_times:\n",
    "    if time < threshold:\n",
    "        fast_trials += 1\n",
    "\n",
    "print(f\"Number of trials faster than {threshold} ms: {fast_trials}\")"
   ]
  },
  {
   "cell_type": "markdown",
   "metadata": {},
   "source": [
    "## Exercise 2: Counting Spikes in Neural Data\n",
    "\n",
    "Assume you have a list of voltage readings from a neuron over time. A spike occurs whenever the voltage is above a threshold (e.g., 50 mV). Write code to count the number of spikes."
   ]
  },
  {
   "cell_type": "code",
   "execution_count": 9,
   "metadata": {},
   "outputs": [],
   "source": [
    "voltage_readings = [45, 52, 49, 55, 60, 48, 47, 53, 49, 50, 65]\n",
    "threshold = 50\n",
    "\n",
    "# Count spikes\n",
    "spike_count = 0\n",
    "for voltage in voltage_readings:\n",
    "    if voltage > threshold:\n",
    "        spike_count += 1\n",
    "\n",
    "print(f\"Number of spikes: {spike_count}\")"
   ]
  },
  {
   "cell_type": "markdown",
   "metadata": {},
   "source": [
    "## Exercise 3: Emotional Word Count\n",
    "\n",
    "You are provided with a list of words from a psychological text analysis of participants' speech. Count how many words are classified as \"positive\" or \"negative\" based on pre-defined lists.\n",
    "\n",
    "*Hint: you can use `in` to check if an item belongs to a list, e.g. `if item in list`...*"
   ]
  },
  {
   "cell_type": "code",
   "execution_count": 10,
   "metadata": {},
   "outputs": [],
   "source": [
    "words = [\"happy\", \"sad\", \"joy\", \"angry\", \"calm\", \"excited\", \"joyful\", \"miserable\", \"peaceful\"]\n",
    "positive_words = [\"happy\", \"joy\", \"calm\", \"excited\", \"joyful\", \"peaceful\"]\n",
    "negative_words = [\"sad\", \"angry\", \"miserable\"]\n",
    "\n",
    "# Count positive and negative words\n",
    "positive_count = 0\n",
    "negative_count = 0\n",
    "\n",
    "for word in words:\n",
    "    if word in positive_words:\n",
    "        positive_count += 1\n",
    "    elif word in negative_words:\n",
    "        negative_count += 1\n",
    "\n",
    "print(f\"Positive words: {positive_count}\")\n",
    "print(f\"Negative words: {negative_count}\")"
   ]
  },
  {
   "cell_type": "markdown",
   "metadata": {},
   "source": [
    "## Exercise 4: Stimulus Response Check\n",
    "\n",
    "Suppose a participant’s responses to a series of stimuli are recorded as \"yes\" or \"no\". Write a loop to check if there are any cases where the participant said \"yes\" three times in a row. If so, print a message that they reached a \"high response\" period.\n",
    "\n",
    "*Hint: You can use `break` to exit the for loop if you found a high response period.*"
   ]
  },
  {
   "cell_type": "code",
   "execution_count": 11,
   "metadata": {},
   "outputs": [],
   "source": [
    "responses = [\"no\", \"yes\", \"yes\", \"yes\", \"no\", \"no\", \"yes\", \"no\"]\n",
    "\n",
    "# Check for three consecutive \"yes\" responses\n",
    "high_response = False\n",
    "for i in range(len(responses) - 2):\n",
    "    if responses[i] == \"yes\" and responses[i + 1] == \"yes\" and responses[i + 2] == \"yes\":\n",
    "        high_response = True\n",
    "        break\n",
    "\n",
    "if high_response:\n",
    "    print(\"High response period detected (three consecutive 'yes' responses).\")\n",
    "else:\n",
    "    print(\"No high response period detected.\")"
   ]
  },
  {
   "cell_type": "markdown",
   "metadata": {},
   "source": [
    "## Exercise 5: Simulating a Stroop Task\n",
    "\n",
    "In a simplified Stroop task, participants must say the color of the text, not the word. You have a list of color-word pairs; print only the color for each item.\n",
    "\n",
    "*Hint: If you iterate over pairs of values, you need to make sure to then handle the values within the pair correcly (e.g. by putting them into individual variables)*"
   ]
  },
  {
   "cell_type": "code",
   "execution_count": 12,
   "metadata": {},
   "outputs": [],
   "source": [
    "color_word_pairs = [(\"red\", \"BLUE\"), (\"green\", \"RED\"), (\"blue\", \"GREEN\"), (\"yellow\", \"BLUE\")]\n",
    "\n",
    "for pair in color_word_pairs:\n",
    "    color, word = pair\n",
    "    print(f\"Say the color: {color}\")"
   ]
  },
  {
   "cell_type": "markdown",
   "metadata": {},
   "source": [
    "## Exercise 6: Neuron Firing Rate Simulation\n",
    "\n",
    "Given a list of neuron firing intervals (in milliseconds) for a neuron over time, calculate the individual firing rates as well as the average firing rate. The firing rate of a neuron is the reciprocal of the firing interval in seconds (e.g. a firing interval of 100 ms is a firing rate of 10 Hz)."
   ]
  },
  {
   "cell_type": "code",
   "execution_count": 13,
   "metadata": {},
   "outputs": [],
   "source": [
    "intervals = [100, 200, 150, 120, 180, 90]  # in ms\n",
    "\n",
    "# Calculate firing rates and average rate\n",
    "firing_rates = []\n",
    "for interval in intervals:\n",
    "    firing_rate = 1000 / interval  # 1000 ms -> 1 second\n",
    "    firing_rates.append(firing_rate)\n",
    "\n",
    "total_rate = 0\n",
    "for rate in firing_rates:\n",
    "    total_rate += rate\n",
    "average_firing_rate = total_rate / len(firing_rates)\n",
    "\n",
    "print(\"Firing rates (Hz):\", firing_rates)\n",
    "print(f\"Average firing rate: {average_firing_rate:.2f} Hz\")"
   ]
  },
  {
   "cell_type": "markdown",
   "metadata": {},
   "source": [
    "## Exercise 7: Experimental Data Normalization\n",
    "\n",
    "Given a list of participants’ scores on a memory test, normalize the scores to a range of 0 to 1 by dividing each score by the maximum score.\n",
    "\n",
    "*Hint: Create and fill a new list that contains the normalized scores.*"
   ]
  },
  {
   "cell_type": "code",
   "execution_count": 14,
   "metadata": {},
   "outputs": [],
   "source": [
    "scores = [45, 55, 80, 90, 60, 70]\n",
    "\n",
    "# Find the maximum score\n",
    "max_score = max(scores)\n",
    "\n",
    "# Normalize scores\n",
    "normalized_scores = []\n",
    "for score in scores:\n",
    "    normalized_score = score / max_score\n",
    "    normalized_scores.append(normalized_score)\n",
    "\n",
    "print(\"Normalized scores:\", normalized_scores)"
   ]
  },
  {
   "cell_type": "markdown",
   "metadata": {},
   "source": [
    "## Exercise 8: Analyzing Sleep Patterns\n",
    "\n",
    "Each item in the sleep_stages list represents 15 minutes of sleep categorized into different stages: `\"Awake\"`, `\"Light Sleep\"`, `\"Deep Sleep\"`, and `\"REM\"`. The task is to analyze sleep patterns by calculating the total time spent in each stage, finding the longest continuous period of deep sleep, and determining if at least 20% of the sleep time was spent in REM.\n",
    "\n",
    "- Calculate the total time spent in each sleep stage.\n",
    "- Identify the longest continuous period spent in \"Deep Sleep.\"\n",
    "- Determine if the participant achieved at least 20% of the total sleep time in \"REM\" sleep.\n",
    "\n",
    "*Hint: You could, for example, create a dictionary to hold the counts of each state before calculating the total time spent in each state.*"
   ]
  },
  {
   "cell_type": "code",
   "execution_count": 16,
   "metadata": {},
   "outputs": [],
   "source": [
    "# Simulated sleep stages data for 8 hours (32 intervals of 15 minutes each)\n",
    "sleep_stages = [\n",
    "    \"Awake\", \"Light Sleep\", \"Light Sleep\", \"Deep Sleep\", \"Deep Sleep\", \"Deep Sleep\",\n",
    "    \"REM\", \"REM\", \"Light Sleep\", \"Light Sleep\", \"Awake\", \"Deep Sleep\",\n",
    "    \"Light Sleep\", \"Deep Sleep\", \"REM\", \"REM\", \"Deep Sleep\", \"Light Sleep\",\n",
    "    \"Awake\", \"Light Sleep\", \"Deep Sleep\", \"Deep Sleep\", \"REM\", \"REM\",\n",
    "    \"Light Sleep\", \"Light Sleep\", \"REM\", \"Light Sleep\", \"Awake\", \"Light Sleep\",\n",
    "    \"Awake\", \"Awake\"\n",
    "]\n",
    "\n",
    "# 1: Calculate total time spent in each sleep stage\n",
    "sleep_stage_counts = {}\n",
    "\n",
    "for stage in sleep_stages:\n",
    "    if stage in sleep_stage_counts:\n",
    "        sleep_stage_counts[stage] += 1\n",
    "    else:\n",
    "        sleep_stage_counts[stage] = 1\n",
    "\n",
    "# Convert counts to minutes by multiplying each count by 15\n",
    "print(\"Total time spent in each sleep stage (in minutes):\")\n",
    "for stage, count in sleep_stage_counts.items():\n",
    "    print(f\"{stage}: {count * 15} minutes\")\n",
    "\n",
    "# 2: Find the longest continuous period of \"Deep Sleep\"\n",
    "max_deep_sleep = 0\n",
    "current_deep_sleep = 0\n",
    "\n",
    "for stage in sleep_stages:\n",
    "    if stage == \"Deep Sleep\":\n",
    "        current_deep_sleep += 15  # each interval is 15 minutes\n",
    "        if current_deep_sleep > max_deep_sleep:\n",
    "            max_deep_sleep = current_deep_sleep\n",
    "    else:\n",
    "        current_deep_sleep = 0\n",
    "\n",
    "print(f\"Longest continuous period in Deep Sleep: {max_deep_sleep} minutes\")\n",
    "\n",
    "# 3: Check if REM sleep is at least 20% of total sleep time\n",
    "total_sleep_time = len(sleep_stages) * 15  # total time in minutes\n",
    "rem_sleep_time = sleep_stage_counts.get(\"REM\", 0) * 15\n",
    "\n",
    "if (rem_sleep_time / total_sleep_time) >= 0.20:\n",
    "    print(\"Participant achieved at least 20% of sleep time in REM sleep.\")\n",
    "else:\n",
    "    print(\"Participant did not achieve 20% of sleep time in REM sleep.\")"
   ]
  }
 ],
 "metadata": {
  "kernelspec": {
   "display_name": "dfc-multiverse",
   "language": "python",
   "name": "python3"
  },
  "language_info": {
   "codemirror_mode": {
    "name": "ipython",
    "version": 3
   },
   "file_extension": ".py",
   "mimetype": "text/x-python",
   "name": "python",
   "nbconvert_exporter": "python",
   "pygments_lexer": "ipython3",
   "version": "3.10.0"
  },
  "widgets": {
   "application/vnd.jupyter.widget-state+json": {
    "state": {},
    "version_major": 2,
    "version_minor": 0
   }
  }
 },
 "nbformat": 4,
 "nbformat_minor": 4
}
