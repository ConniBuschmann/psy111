{
 "cells": [
  {
   "cell_type": "markdown",
   "metadata": {},
   "source": [
    "# Categorical Regression"
   ]
  },
  {
   "cell_type": "code",
   "execution_count": 1,
   "metadata": {},
   "outputs": [],
   "source": [
    "import numpy as np\n",
    "import pandas as pd\n",
    "\n",
    "import matplotlib.pyplot as plt \n",
    "import seaborn as sns\n",
    "\n",
    "import statsmodels.formula.api as smf\n",
    "import statsmodels.api as sm\n",
    "from patsy.contrasts import Treatment"
   ]
  },
  {
   "cell_type": "markdown",
   "metadata": {},
   "source": [
    "## Exercise 1: Loading the Data\n",
    "\n",
    "For today's exercise we will use the Cleveland Heart Disease dataset. It is a well-known dataset in the field of medical research and machine learning, particularly used for predicting heart disease. The dataset contains data collected from patients with suspected heart disease and includes various clinical and demographic attributes.\n",
    "\n",
    "\n",
    "1. Please [visit the documentation](https://archive.ics.uci.edu/dataset/45/heart+disease) and familiarize yourself with the dataset.\n",
    "2. Find the instructions for importing the data in Python. You can remove the printing of the metadata and variables, as this looks horrible in the notebook. Read it in the documentation instead.\n",
    "3. Create a combined DataFrame, which combines the features and the targets along the first axis: `pd.concat([X, y], axis=1)`.\n",
    "4. Please check if your data is how you expect it to be. You can use functions like `.describe()` or `.head()`."
   ]
  },
  {
   "cell_type": "code",
   "execution_count": 2,
   "metadata": {},
   "outputs": [
    {
     "name": "stdout",
     "output_type": "stream",
     "text": [
      "              age         sex          cp    trestbps        chol         fbs  \\\n",
      "count  303.000000  303.000000  303.000000  303.000000  303.000000  303.000000   \n",
      "mean    54.438944    0.679868    3.158416  131.689769  246.693069    0.148515   \n",
      "std      9.038662    0.467299    0.960126   17.599748   51.776918    0.356198   \n",
      "min     29.000000    0.000000    1.000000   94.000000  126.000000    0.000000   \n",
      "25%     48.000000    0.000000    3.000000  120.000000  211.000000    0.000000   \n",
      "50%     56.000000    1.000000    3.000000  130.000000  241.000000    0.000000   \n",
      "75%     61.000000    1.000000    4.000000  140.000000  275.000000    0.000000   \n",
      "max     77.000000    1.000000    4.000000  200.000000  564.000000    1.000000   \n",
      "\n",
      "          restecg     thalach       exang     oldpeak       slope          ca  \\\n",
      "count  303.000000  303.000000  303.000000  303.000000  303.000000  299.000000   \n",
      "mean     0.990099  149.607261    0.326733    1.039604    1.600660    0.672241   \n",
      "std      0.994971   22.875003    0.469794    1.161075    0.616226    0.937438   \n",
      "min      0.000000   71.000000    0.000000    0.000000    1.000000    0.000000   \n",
      "25%      0.000000  133.500000    0.000000    0.000000    1.000000    0.000000   \n",
      "50%      1.000000  153.000000    0.000000    0.800000    2.000000    0.000000   \n",
      "75%      2.000000  166.000000    1.000000    1.600000    2.000000    1.000000   \n",
      "max      2.000000  202.000000    1.000000    6.200000    3.000000    3.000000   \n",
      "\n",
      "             thal         num  \n",
      "count  301.000000  303.000000  \n",
      "mean     4.734219    0.937294  \n",
      "std      1.939706    1.228536  \n",
      "min      3.000000    0.000000  \n",
      "25%      3.000000    0.000000  \n",
      "50%      3.000000    0.000000  \n",
      "75%      7.000000    2.000000  \n",
      "max      7.000000    4.000000  \n",
      "   age  sex  cp  trestbps  chol  fbs  restecg  thalach  exang  oldpeak  slope  \\\n",
      "0   63    1   1       145   233    1        2      150      0      2.3      3   \n",
      "1   67    1   4       160   286    0        2      108      1      1.5      2   \n",
      "2   67    1   4       120   229    0        2      129      1      2.6      2   \n",
      "3   37    1   3       130   250    0        0      187      0      3.5      3   \n",
      "4   41    0   2       130   204    0        2      172      0      1.4      1   \n",
      "\n",
      "    ca  thal  num  \n",
      "0  0.0   6.0    0  \n",
      "1  3.0   3.0    2  \n",
      "2  2.0   7.0    1  \n",
      "3  0.0   3.0    0  \n",
      "4  0.0   3.0    0  \n"
     ]
    }
   ],
   "source": [
    "# In Google Colab, do: !pip install ucimlrepo\n",
    "from ucimlrepo import fetch_ucirepo \n",
    "  \n",
    "# fetch dataset \n",
    "heart_disease = fetch_ucirepo(id=45) \n",
    "  \n",
    "# data (as pandas dataframes) \n",
    "X = heart_disease.data.features \n",
    "y = heart_disease.data.targets \n",
    "\n",
    "# Create a combined DataFrame\n",
    "df = pd.concat([X, y], axis=1)\n",
    "\n",
    "print(df.describe())\n",
    "print(df.head())"
   ]
  },
  {
   "cell_type": "markdown",
   "metadata": {},
   "source": [
    "## Exercise 2: Visualizing the Data\n",
    "\n",
    "Plot `age` against the diferent types of chest pain (`cp`) using `sns.boxplot()`. Incorporate the diagnosis of heart disease (`num`) as the `hue`. Use `plt.xlabel()` and `plt.ylabel()` to label the x-axis with 'Chest Pain Type (cp)' and the y-axis with 'Age'.\n",
    "\n",
    "*Additional information: Remember that patients without heart disease will have num = 0, while those with heart disease will have values ranging from 1 to 4.*"
   ]
  },
  {
   "cell_type": "code",
   "execution_count": null,
   "metadata": {},
   "outputs": [
    {
     "data": {
      "image/png": "[encoded data removed]",
      "text/plain": [
       "<Figure size 1000x600 with 1 Axes>"
      ]
     },
     "metadata": {},
     "output_type": "display_data"
    }
   ],
   "source": [
    "plt.figure(figsize=(10, 6))\n",
    "sns.boxplot(x=\"cp\",y=\"age\",hue=\"num\",data=df)\n",
    "\n",
    "plt.title('Age Distribution by Chest Pain Type')\n",
    "plt.xlabel('Chest Pain Type (cp)')\n",
    "plt.ylabel('Age')\n",
    "plt.show()"
   ]
  },
  {
   "cell_type": "markdown",
   "metadata": {},
   "source": [
    "## Exercise 3: Dummy Coding\n",
    "\n",
    "Perform categorical regression with `cp` as the outcome variable and `age` as the predictors. For this:\n",
    "\n",
    "1. In the documentation, inspect the \"Additional Variable Information\" to find out about the different levels of chest pain\n",
    "2. Convert chest pain into a categorical variable\n",
    "3. Apply a dummy coding scheme with typical angina as the reference category\n",
    "4. Discuss the following points:\n",
    "    - What do the coefficients tell you about the relationship between age and different types of chest pain?\n",
    "    - Considering the explained variance and significance. Do the results suggest a relationship between chest pain type and age? Why or why not?"
   ]
  },
  {
   "cell_type": "code",
   "execution_count": 4,
   "metadata": {},
   "outputs": [
    {
     "name": "stdout",
     "output_type": "stream",
     "text": [
      "                            OLS Regression Results                            \n",
      "==============================================================================\n",
      "Dep. Variable:                    age   R-squared:                       0.033\n",
      "Model:                            OLS   Adj. R-squared:                  0.023\n",
      "Method:                 Least Squares   F-statistic:                     3.364\n",
      "Date:                Wed, 11 Dec 2024   Prob (F-statistic):             0.0191\n",
      "Time:                        11:24:18   Log-Likelihood:                -1091.5\n",
      "No. Observations:                 303   AIC:                             2191.\n",
      "Df Residuals:                     299   BIC:                             2206.\n",
      "Df Model:                           3                                         \n",
      "Covariance Type:            nonrobust                                         \n",
      "======================================================================================================\n",
      "                                         coef    std err          t      P>|t|      [0.025      0.975]\n",
      "------------------------------------------------------------------------------------------------------\n",
      "Intercept                             55.8696      1.863     29.990      0.000      52.203      59.536\n",
      "C(cp, Treatment(reference=1))[T.2]    -4.5096      2.251     -2.003      0.046      -8.939      -0.080\n",
      "C(cp, Treatment(reference=1))[T.3]    -2.1719      2.097     -1.036      0.301      -6.299       1.955\n",
      "C(cp, Treatment(reference=1))[T.4]    -0.1473      2.006     -0.073      0.942      -4.095       3.801\n",
      "==============================================================================\n",
      "Omnibus:                        3.943   Durbin-Watson:                   2.003\n",
      "Prob(Omnibus):                  0.139   Jarque-Bera (JB):                3.354\n",
      "Skew:                          -0.166   Prob(JB):                        0.187\n",
      "Kurtosis:                       2.606   Cond. No.                         8.69\n",
      "==============================================================================\n",
      "\n",
      "Notes:\n",
      "[1] Standard Errors assume that the covariance matrix of the errors is correctly specified.\n"
     ]
    }
   ],
   "source": [
    "# Convert 'cp' to categorical variables\n",
    "df['cp'] = df['cp'].astype('category')\n",
    "\n",
    "# Run the model\n",
    "model = smf.ols('age ~ C(cp, Treatment(reference=1))', data=df)\n",
    "results = model.fit()\n",
    "print(results.summary())"
   ]
  },
  {
   "cell_type": "markdown",
   "metadata": {},
   "source": [
    "### Solution\n",
    "\n",
    "The only significant difference observed is between typical and atypical angina, with patients displaying significantly younger ages and a higher prevalence of atypical angina. No other categories show significance. However, the model explains only 3.3% of the variance in age. While the significance is low in terms of explanatory power, it is important to note that in clinical contexts, the explained variance is often lower due to the complex mechanisms underlying health issues, which cannot be fully captured by such simple models."
   ]
  },
  {
   "cell_type": "markdown",
   "metadata": {},
   "source": [
    "## Exercise 4: Weighted Effects Coding\n",
    "\n",
    "1. Create a weighted effects coding contrast matrix with `age` as the outcome variable and `cp` as the predictors. Use 1 (typical angina) as the reference category, as in the previous steps.\n",
    "2. Perform linear regression using `ols()` from `Statsmodels` with the weighted effects coding matrix.\n",
    "3. Compare and interpret the results against the previous dummy coding approach, specifically focusing on the impact of using a weighted reference category versus an unweighted reference. How does the weighting affect the interpretation of the relationship between cp and age?"
   ]
  },
  {
   "cell_type": "code",
   "execution_count": 5,
   "metadata": {},
   "outputs": [
    {
     "name": "stdout",
     "output_type": "stream",
     "text": [
      "Levels: [1, 2, 3, 4]\n",
      "Counts: [ 23  50  86 144]\n",
      "\n",
      "Contrasts:\n",
      "1: [-0.15972222 -0.34722222 -0.59722222]\n",
      "2: [1 0 0]\n",
      "3: [0 1 0]\n",
      "4: [0 0 1]\n",
      "                            OLS Regression Results                            \n",
      "==============================================================================\n",
      "Dep. Variable:                    age   R-squared:                       0.033\n",
      "Model:                            OLS   Adj. R-squared:                  0.023\n",
      "Method:                 Least Squares   F-statistic:                     3.364\n",
      "Date:                Wed, 11 Dec 2024   Prob (F-statistic):             0.0191\n",
      "Time:                        11:24:18   Log-Likelihood:                -1091.5\n",
      "No. Observations:                 303   AIC:                             2191.\n",
      "Df Residuals:                     299   BIC:                             2206.\n",
      "Df Model:                           3                                         \n",
      "Covariance Type:            nonrobust                                         \n",
      "==============================================================================\n",
      "                 coef    std err          t      P>|t|      [0.025      0.975]\n",
      "------------------------------------------------------------------------------\n",
      "const         55.1270      0.929     59.342      0.000      53.299      56.955\n",
      "x1            -3.7670      1.489     -2.530      0.012      -6.697      -0.837\n",
      "x2            -1.4294      1.219     -1.173      0.242      -3.827       0.969\n",
      "x3             0.5952      1.050      0.567      0.571      -1.471       2.662\n",
      "==============================================================================\n",
      "Omnibus:                        3.943   Durbin-Watson:                   2.003\n",
      "Prob(Omnibus):                  0.139   Jarque-Bera (JB):                3.354\n",
      "Skew:                          -0.166   Prob(JB):                        0.187\n",
      "Kurtosis:                       2.606   Cond. No.                         4.16\n",
      "==============================================================================\n",
      "\n",
      "Notes:\n",
      "[1] Standard Errors assume that the covariance matrix of the errors is correctly specified.\n"
     ]
    }
   ],
   "source": [
    "# Calculate sample sizes for each chest pain type\n",
    "levels = df['cp'].cat.categories.tolist()\n",
    "cp_counts = df['cp'].value_counts(sort=False)\n",
    "counts = cp_counts.values\n",
    "\n",
    "print(\"Levels:\", levels)\n",
    "print(\"Counts:\", counts)\n",
    "\n",
    "\n",
    "contrast_matrix = {\n",
    "    1: -counts[:-1] / counts[-1], # typical angina\n",
    "    2: np.array([1, 0, 0]),       # atypical angina\n",
    "    3: np.array([0, 1, 0]),       # non-anginal pain\n",
    "    4: np.array([0, 0, 1]),       # asymptomatic\n",
    "}\n",
    "\n",
    "# Print each genotype's corresponding contrast vector\n",
    "print(\"\\nContrasts:\")\n",
    "for key, value in contrast_matrix.items():\n",
    "    print(f\"{key}: {value}\")\n",
    "\n",
    "# Create the design matrix and outcome vector\n",
    "X = np.array([contrast_matrix[cp] for cp in df['cp']])\n",
    "X = sm.add_constant(X)\n",
    "y = df['age']\n",
    "\n",
    "# Fit the model\n",
    "model = sm.OLS(y, X)\n",
    "results = model.fit()\n",
    "print(results.summary())\n"
   ]
  },
  {
   "cell_type": "markdown",
   "metadata": {},
   "source": [
    "### Solution\n",
    "\n",
    "- Dummy Coding provides simple, clear comparisons against a single fixed group (like Asymptomatic), but the interpretation can be sensitive to imbalances in the reference group.\n",
    "- Weighted Effect Coding offers a more balanced comparison, as it adjusts the reference category to account for differences in group sizes. This results in coefficients that are more representative of the overall structure of the data.\n",
    "- Atypical Angina and Asymptomatic have clearer interpretations in the weighted model.\n",
    "- The weighted model also gives a more accurate sense of how each group relates to the other chest pain categories, as it doesn’t rely on any one group being a fixed reference."
   ]
  },
  {
   "cell_type": "markdown",
   "metadata": {},
   "source": [
    "## Voluntary exercise 1\n",
    "\n",
    "With the model as previously designed in Exercise 2:\n",
    "\n",
    "1. Manually create the contrast matrix and print it\n",
    "2. Create and print the design matrix\n",
    "\n",
    "*Hint: You can create the design matrix from the contrast matrix, but you need to map each level in `cp` to the corresponding contrast row: `cp_mapping = {level: idx for idx, level in enumerate(levels)}`.*\n",
    "\n"
   ]
  },
  {
   "cell_type": "code",
   "execution_count": 6,
   "metadata": {},
   "outputs": [
    {
     "name": "stdout",
     "output_type": "stream",
     "text": [
      "Levels: [1, 2, 3, 4]\n",
      "\n",
      "Contrast matrix:\n",
      " [[0. 0. 0.]\n",
      " [1. 0. 0.]\n",
      " [0. 1. 0.]\n",
      " [0. 0. 1.]]\n",
      "Mapping: {1: 0, 2: 1, 3: 2, 4: 3}\n",
      "\n",
      "Design matrix:\n",
      " [[1. 0. 0. 0.]\n",
      " [1. 0. 0. 1.]\n",
      " [1. 0. 0. 1.]\n",
      " ...\n",
      " [1. 0. 0. 1.]\n",
      " [1. 1. 0. 0.]\n",
      " [1. 0. 1. 0.]]\n"
     ]
    }
   ],
   "source": [
    "# Get the levels of 'cp'\n",
    "levels = df['cp'].cat.categories.tolist()\n",
    "print(\"Levels:\", levels)\n",
    "\n",
    "#  Create a Treatment contrast object\n",
    "contrast = Treatment(reference=1)  # Set the reference level to atypical angina\n",
    "\n",
    "# Contrast matrix\n",
    "contrast_matrix = contrast.code_without_intercept(levels)\n",
    "print(\"\\nContrast matrix:\\n\", contrast_matrix.matrix)\n",
    "\n",
    "# Map each value in 'cp' to its corresponding contrast row\n",
    "cp_mapping = {level: idx for idx, level in enumerate(levels)}\n",
    "print(\"Mapping:\", cp_mapping)\n",
    "\n",
    "# Create the design matrix\n",
    "X = np.array([contrast_matrix.matrix[cp_mapping[cp]] for cp in df['cp']])\n",
    "X = sm.add_constant(X)  # Add intercept\n",
    "\n",
    "print(\"\\nDesign matrix:\\n\", X)"
   ]
  },
  {
   "cell_type": "markdown",
   "metadata": {},
   "source": [
    "## Voluntary exercise 2\n",
    "\n",
    "Implement contrast coding on the heart disease data set. There are no constraints, feel free to explore any contrasts."
   ]
  },
  {
   "cell_type": "code",
   "execution_count": 7,
   "metadata": {},
   "outputs": [],
   "source": [
    "# Voluntary exercise 2"
   ]
  }
 ],
 "metadata": {
  "kernelspec": {
   "display_name": "psy111",
   "language": "python",
   "name": "python3"
  },
  "language_info": {
   "codemirror_mode": {
    "name": "ipython",
    "version": 3
   },
   "file_extension": ".py",
   "mimetype": "text/x-python",
   "name": "python",
   "nbconvert_exporter": "python",
   "pygments_lexer": "ipython3",
   "version": "3.13.0"
  }
 },
 "nbformat": 4,
 "nbformat_minor": 2
}
