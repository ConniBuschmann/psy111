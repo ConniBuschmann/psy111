{
 "cells": [
  {
   "cell_type": "markdown",
   "metadata": {},
   "source": [
    "# 3.6 Exercises"
   ]
  },
  {
   "cell_type": "markdown",
   "metadata": {},
   "source": [
    "## Exercise 1: Objects\n",
    "\n",
    "Find the methods associated with dictionary objects. Are they different from the methods associated with list objects?"
   ]
  },
  {
   "cell_type": "code",
   "execution_count": 1,
   "metadata": {},
   "outputs": [
    {
     "name": "stdout",
     "output_type": "stream",
     "text": [
      "['__class__', '__class_getitem__', '__contains__', '__delattr__', '__delitem__', '__dir__', '__doc__', '__eq__', '__format__', '__ge__', '__getattribute__', '__getitem__', '__gt__', '__hash__', '__init__', '__init_subclass__', '__ior__', '__iter__', '__le__', '__len__', '__lt__', '__ne__', '__new__', '__or__', '__reduce__', '__reduce_ex__', '__repr__', '__reversed__', '__ror__', '__setattr__', '__setitem__', '__sizeof__', '__str__', '__subclasshook__', 'clear', 'copy', 'fromkeys', 'get', 'items', 'keys', 'pop', 'popitem', 'setdefault', 'update', 'values']\n",
      "['__add__', '__class__', '__class_getitem__', '__contains__', '__delattr__', '__delitem__', '__dir__', '__doc__', '__eq__', '__format__', '__ge__', '__getattribute__', '__getitem__', '__gt__', '__hash__', '__iadd__', '__imul__', '__init__', '__init_subclass__', '__iter__', '__le__', '__len__', '__lt__', '__mul__', '__ne__', '__new__', '__reduce__', '__reduce_ex__', '__repr__', '__reversed__', '__rmul__', '__setattr__', '__setitem__', '__sizeof__', '__str__', '__subclasshook__', 'append', 'clear', 'copy', 'count', 'extend', 'index', 'insert', 'pop', 'remove', 'reverse', 'sort']\n"
     ]
    }
   ],
   "source": [
    "print(dir(dict))\n",
    "print(dir(list))"
   ]
  },
  {
   "cell_type": "markdown",
   "metadata": {},
   "source": [
    "## Exercise 2: Conditionals\n",
    "\n",
    "You previously learned about if-else statements. Can you rewrite the code below by only using one *if*, one *elif*, and one *else* statement to improve readability?"
   ]
  },
  {
   "cell_type": "code",
   "execution_count": 2,
   "metadata": {},
   "outputs": [
    {
     "name": "stdout",
     "output_type": "stream",
     "text": [
      "Points are more than 10.\n",
      "Points are more than 10.\n"
     ]
    }
   ],
   "source": [
    "points = 12\n",
    "\n",
    "if points > 15:\n",
    "    print(\"Points are more than 10.\")\n",
    "if points == 10:\n",
    "    print(\"Points are exactly 10.\")\n",
    "if points < 10:\n",
    "    print(\"Points are less than 10.\")\n",
    "if points > 10:\n",
    "    print(\"Points are more than 10.\")\n",
    "if points <= 5:\n",
    "    print(\"Points are less than 10.\")\n",
    "\n",
    "# Refactor the code to use elif statements\n",
    "if points > 10:\n",
    "    print(\"Points are more than 10.\")\n",
    "elif points == 10:\n",
    "    print(\"Points are exactly 10.\")\n",
    "else:\n",
    "    print(\"Points are less than 10.\")"
   ]
  },
  {
   "cell_type": "markdown",
   "metadata": {},
   "source": [
    "## Exercise 3: Loops\n",
    "\n",
    "You are provided with a list of integers. Your task is to:\n",
    "\n",
    "1. Write a for loop to calculate the sum of all elements in the list. Print the result.\n",
    "2. Write a for loop to count how many numbers in the list are even. Print the count.\n",
    "\n",
    "*Hint: The modulo `%` operator will give you the remainder of a division. So the expression `number % 2 == 0` will be `True` if number is even (there is no remainder), or else it will be `False` (there is a remainder).*"
   ]
  },
  {
   "cell_type": "code",
   "execution_count": 3,
   "metadata": {},
   "outputs": [
    {
     "name": "stdout",
     "output_type": "stream",
     "text": [
      "The sum of all elements is 164\n",
      "The count of even numbers is 6\n"
     ]
    }
   ],
   "source": [
    "numbers = [10, 15, 8, 23, 42, 4, 16, 9, 7, 30]\n",
    "\n",
    "# 1. Sum of all elements\n",
    "total_sum = 0\n",
    "\n",
    "for num in numbers:\n",
    "    total_sum += num\n",
    "\n",
    "print(f\"The sum of all elements is {total_sum}\")\n",
    "\n",
    "# 2. Count even numbers\n",
    "even_count = 0\n",
    "\n",
    "for num in numbers:\n",
    "    if num % 2 == 0:\n",
    "        even_count += 1\n",
    "\n",
    "print(f\"The count of even numbers is {even_count}\")"
   ]
  },
  {
   "cell_type": "markdown",
   "metadata": {},
   "source": [
    "## Exercise 4: Namespaces\n",
    "\n",
    "In this exercise, you will practice managing namespaces and importing modules and functions in Python. Please implement the following questions:\n",
    "\n",
    "1. Importing Entire Modules:\n",
    "    - Import the entire `math` module.\n",
    "    - Calculate and print the natural logarithm of 20.\n",
    "\n",
    "2. Importing Specific Functions:\n",
    "    - Import only the `pow` function from the `math` module.\n",
    "    - Calculate and print 2 raised to the power of 3.\n",
    "\n",
    "3. Using Aliases for Modules:\n",
    "    - Import the `numpy` module using the alias `np`.\n",
    "    - Create a numpy array with the values [1, 4, 9, 16, 25].\n",
    "    - Calculate and print the square root of each element in the array using the numpy module.\n",
    "\n",
    "*Hint:* The numpy module is the fundamental Python package for scientific computing in Python. It uses arrays to store data. Please refer to the [documentation](https://numpy.org/doc/stable/reference/generated/numpy.array.html) for the third question. Do not worry about the details, we will discuss this package in more detail later. "
   ]
  },
  {
   "cell_type": "code",
   "execution_count": 4,
   "metadata": {},
   "outputs": [
    {
     "name": "stdout",
     "output_type": "stream",
     "text": [
      "The natural logarithm of 20 is: 2.995732273553991\n",
      "2 raised to the power of 3 is: 8.0\n",
      "The square root of each element in the array is: [1. 2. 3. 4. 5.]\n"
     ]
    }
   ],
   "source": [
    "# 1. Import module\n",
    "import math\n",
    "\n",
    "log_value = math.log(20)\n",
    "print(f\"The natural logarithm of 20 is: {log_value}\")\n",
    "\n",
    "# 2. Import specific function\n",
    "from math import pow\n",
    "\n",
    "power_value = pow(2, 3)\n",
    "print(f\"2 raised to the power of 3 is: {power_value}\")\n",
    "\n",
    "# 3. Using alias for module\n",
    "import numpy as np\n",
    "\n",
    "array = np.array([1, 4, 9, 16, 25])\n",
    "sqrt_values = np.sqrt(array)\n",
    "print(f\"The square root of each element in the array is: {sqrt_values}\")"
   ]
  },
  {
   "cell_type": "markdown",
   "metadata": {},
   "source": [
    "## Exercise 5: Functions\n",
    "\n",
    "1. Create a function that takes in the radius of a circle and returns its area.\n",
    "2. Run the function by providing a radius and print the resulting area."
   ]
  },
  {
   "cell_type": "code",
   "execution_count": 5,
   "metadata": {},
   "outputs": [
    {
     "name": "stdout",
     "output_type": "stream",
     "text": [
      "The area of a circle with radius 5 is 78.53981633974483\n"
     ]
    }
   ],
   "source": [
    "def calculate_area(radius):\n",
    "    return math.pi * radius ** 2\n",
    "\n",
    "radius = 5\n",
    "area = calculate_area(radius)\n",
    "print(f\"The area of a circle with radius {radius} is {area}\")"
   ]
  },
  {
   "cell_type": "markdown",
   "metadata": {},
   "source": [
    "## Exercise 6: Classes\n",
    "\n",
    "Functions are nice if you need to perform a specific, isolated computation. However, sometimes it is uesful to create encapsulate objects that have different properties (attributes) and actions (methods). For example, look at the provided code snippet. \n",
    "\n",
    "An instance of `Circle` is created by providing a radius: `my_circle = Circle(radius=5)`. This radius is then assigned to the `self.radius` attribute of the class. The only method in the class is the `calculate_area()` method that (if called) calculates the area of the circle, assigns it to a newly created `self.area` attribute.\n",
    "\n",
    "Please do the following:\n",
    "\n",
    "1. In `Circle`, implement a second method that calculates the circumference of the circle. Calculate and print the circumference.\n",
    "2. Implement a new class called `Square` that has a single attribute `side`, and two methods for area and circumference. Calculate and print both."
   ]
  },
  {
   "cell_type": "code",
   "execution_count": 6,
   "metadata": {},
   "outputs": [
    {
     "name": "stdout",
     "output_type": "stream",
     "text": [
      "The area of the circle is: : 78.53981633974483\n",
      "The circumference of the circle is: 31.41592653589793\n",
      "The area of the square is: : 25\n",
      "The circumference of the square is: 20\n"
     ]
    }
   ],
   "source": [
    "from math import pi\n",
    "\n",
    "class Circle:\n",
    "  def __init__(self, radius):\n",
    "    self.radius = radius\n",
    "\n",
    "  def calculate_area(self):\n",
    "    self.area = pi * self.radius**2\n",
    "\n",
    "  def calculate_circumference(self):\n",
    "    self.circumference = 2 * pi * self.radius\n",
    "\n",
    "# Create an instance of the Circle class and calculate the area and circumference\n",
    "my_circle = Circle(radius=5)\n",
    "my_circle.calculate_area()\n",
    "my_circle.calculate_circumference()\n",
    "\n",
    "print(f\"The area of the circle is: : {my_circle.area}\")\n",
    "print(f\"The circumference of the circle is: {my_circle.circumference}\")\n",
    "\n",
    "\n",
    "class Square:\n",
    "  def __init__(self, side):\n",
    "    self.side = side\n",
    "\n",
    "  def calculate_area(self):\n",
    "    self.area = self.side**2\n",
    "\n",
    "  def calculate_circumference(self):\n",
    "    self.circumference = 4 * self.side\n",
    "\n",
    "# Create an instance of the Square class and calculate the area and circumference\n",
    "my_square = Square(side=5)\n",
    "my_square.calculate_area()\n",
    "my_square.calculate_circumference()\n",
    "\n",
    "print(f\"The area of the square is: : {my_square.area}\")\n",
    "print(f\"The circumference of the square is: {my_square.circumference}\")"
   ]
  },
  {
   "cell_type": "markdown",
   "metadata": {},
   "source": [
    "## Voluntary Exercise 1: List comprehensions\n",
    "\n",
    "You previously learned about nested statements. Please carefully read the following code. What is its purpose?"
   ]
  },
  {
   "cell_type": "code",
   "execution_count": 7,
   "metadata": {},
   "outputs": [
    {
     "name": "stdout",
     "output_type": "stream",
     "text": [
      "Only the string values: ['banana', 'apple', 'hello']\n"
     ]
    }
   ],
   "source": [
    "random_stuff = [1, \"banana\", \"apple\", 3.14, 7, \"hello\"]\n",
    "strings_only = [] # empty list for filtered vaues\n",
    "\n",
    "# loop through the list\n",
    "for elem in random_stuff:\n",
    "    # if the current element is a string...\n",
    "    if isinstance(elem, str):\n",
    "        # ...then append the value to strings_only\n",
    "        strings_only.append(elem)\n",
    "\n",
    "print(f\"Only the string values: {strings_only}\")"
   ]
  },
  {
   "cell_type": "markdown",
   "metadata": {},
   "source": [
    "Python offers a feature called *list comprehension*. This allows you to write for-loops in a more compact way. List comprehensions are *syntactic sugar*, which means they do not add any additional features and are just a way of making the code a bit shorter (and maybe even nicer to read once you get used to them). Take a look at the following example which prints the elements of the `random_stuff` list:"
   ]
  },
  {
   "cell_type": "code",
   "execution_count": 8,
   "metadata": {},
   "outputs": [
    {
     "name": "stdout",
     "output_type": "stream",
     "text": [
      "1\n",
      "banana\n",
      "apple\n",
      "3.14\n",
      "7\n",
      "hello\n"
     ]
    }
   ],
   "source": [
    "p = [print(elem) for elem in random_stuff]"
   ]
  },
  {
   "cell_type": "markdown",
   "metadata": {},
   "source": [
    "Can you implement the previous code block that filters the strings from the list as a single list comprehension?"
   ]
  },
  {
   "cell_type": "code",
   "execution_count": 9,
   "metadata": {},
   "outputs": [
    {
     "name": "stdout",
     "output_type": "stream",
     "text": [
      "Only the string values: ['banana', 'apple', 'hello']\n"
     ]
    }
   ],
   "source": [
    "strings_only = [elem for elem in random_stuff if isinstance(elem, str)]\n",
    "print(f\"Only the string values: {strings_only}\")"
   ]
  },
  {
   "cell_type": "markdown",
   "metadata": {},
   "source": [
    "## Voluntary Exercise 2: While loops\n",
    "\n",
    "Other than `for` loops, there are also `while` loops that run while a condition is true.\n",
    "\n",
    "For example:"
   ]
  },
  {
   "cell_type": "code",
   "execution_count": 10,
   "metadata": {},
   "outputs": [
    {
     "name": "stdout",
     "output_type": "stream",
     "text": [
      "1\n",
      "2\n",
      "3\n",
      "4\n",
      "5\n"
     ]
    }
   ],
   "source": [
    "x = [1, 2, 3, 4, 5, 6, 7, 8, 9, 10]\n",
    "\n",
    "index = 0\n",
    "while index < 5:\n",
    "    print(x[index])\n",
    "    index += 1"
   ]
  },
  {
   "cell_type": "markdown",
   "metadata": {},
   "source": [
    "Create a new list that contains only the odd numbers from the original list and fill it in a while loop. Print the new list."
   ]
  },
  {
   "cell_type": "code",
   "execution_count": 11,
   "metadata": {},
   "outputs": [
    {
     "name": "stdout",
     "output_type": "stream",
     "text": [
      "The ist of odd numbers is [15, 23, 9, 7]\n"
     ]
    }
   ],
   "source": [
    "numbers = [10, 15, 8, 23, 42, 4, 16, 9, 7, 30]\n",
    "\n",
    "# 3. Create a list of odd numbers using a while loop\n",
    "odd_numbers = []\n",
    "index = 0\n",
    "\n",
    "while index < len(numbers):\n",
    "    if numbers[index] % 2 != 0:\n",
    "        odd_numbers.append(numbers[index])\n",
    "    index += 1\n",
    "\n",
    "print(f\"The ist of odd numbers is {odd_numbers}\")"
   ]
  },
  {
   "cell_type": "markdown",
   "metadata": {},
   "source": [
    "## Voluntrary Exercise 3: Classes and inheritance\n",
    "\n",
    "In this exercise, you will create a class that simulates a simple bank account system. The account will allow deposits, withdrawals, and checking balances. You will also implement a savings account class that extends the functions of the simple bank account.\n",
    "\n",
    "1. Create the Base Class `BankAccount`\n",
    "    - Write a class `BankAccount `with the following attributes:\n",
    "        - `account_holder`: The name of the account holder.\n",
    "        - `balance`: The account balance (default is 0).\n",
    "    - Implement the following methods:\n",
    "        - `deposit(amount)`: Adds `amount` to the account balance.\n",
    "        - `withdraw(amount)`: Subtracts `amount` from the account balance if there are sufficient funds, otherwise it should print a message that there are insufficient funds.\n",
    "        - `check_balance()`: Prints the current balance.\n",
    "\n",
    "2. Test the `BankAccount` class\n",
    "    - Create an instance of BankAccount for a user named \"Alice\" with an initial balance of 1000. Deposit 500 and then withdraw 2000. Print the final balance."
   ]
  },
  {
   "cell_type": "code",
   "execution_count": 12,
   "metadata": {},
   "outputs": [
    {
     "name": "stdout",
     "output_type": "stream",
     "text": [
      "500 deposited. New balance is 1500.\n",
      "Insufficient funds! Withdrawal of 2000 denied. Current balance is 1500.\n",
      "The current balance is 1500.\n"
     ]
    }
   ],
   "source": [
    "# 1. Base class BankAccount\n",
    "class BankAccount:\n",
    "    def __init__(self, account_holder, balance=0):\n",
    "        self.account_holder = account_holder\n",
    "        self.balance = balance\n",
    "\n",
    "    def deposit(self, amount):\n",
    "        self.balance += amount\n",
    "        print(f\"{amount} deposited. New balance is {self.balance}.\")\n",
    "\n",
    "    def withdraw(self, amount):\n",
    "        if amount <= self.balance:\n",
    "            self.balance -= amount\n",
    "            print(f\"{amount} withdrawn. New balance is {self.balance}.\")\n",
    "        else:\n",
    "            print(f\"Insufficient funds! Withdrawal of {amount} denied. Current balance is {self.balance}.\")\n",
    "\n",
    "    def check_balance(self):\n",
    "        return print(f\"The current balance is {self.balance}.\")\n",
    "\n",
    "# 2. Test BankAccount\n",
    "alice_account = BankAccount(\"Alice\", balance=1000)\n",
    "alice_account.deposit(500)\n",
    "alice_account.withdraw(2000)\n",
    "alice_account.check_balance()"
   ]
  },
  {
   "cell_type": "markdown",
   "metadata": {},
   "source": [
    "In object oriented programming, classes can inherit attributes or methods from an existing class (base or parent class). This allows the subclass to reuse and extend the functionality of the parent class, adding its own specialized behavior. Have a look at an [online tutorial](https://www.w3schools.com/python/python_inheritance.asp) to figure out how this can be implemented.\n",
    "\n",
    "1. Inheritance and specialized accounts\n",
    "    - Create a subclass `SavingsAccount` that inherits from BankAccount. Add an attribute `interest_rate` (default is `0.02`, representing 2%) and implement a method `apply_interest()`, which applies the interest to the current balance.\n",
    "\n",
    "2. Test the `SavingsAccount` class\n",
    "    - Create an instance of SavingsAccount for a user named \"Bob\" with an initial balance of 1000. Deposit 500 and apply interest. Print the balance after interest is applied.\n"
   ]
  },
  {
   "cell_type": "code",
   "execution_count": 13,
   "metadata": {},
   "outputs": [
    {
     "name": "stdout",
     "output_type": "stream",
     "text": [
      "500 deposited. New balance is 1500.\n",
      "Interest of 30.0 applied. New balance is 1530.0.\n",
      "The current balance is 1530.0.\n"
     ]
    }
   ],
   "source": [
    "# 1. Specialized SavingsAccount with interest\n",
    "class SavingsAccount(BankAccount):\n",
    "    def __init__(self, account_holder, balance=0, interest_rate=0.02):\n",
    "        super().__init__(account_holder, balance)\n",
    "        self.interest_rate = interest_rate\n",
    "\n",
    "    def apply_interest(self):\n",
    "        interest = self.balance * self.interest_rate\n",
    "        self.balance += interest\n",
    "        print(f\"Interest of {interest} applied. New balance is {self.balance}.\")\n",
    "\n",
    "\n",
    "# 2. Test SavingsAccount\n",
    "alice_account = SavingsAccount(\"Bob\", balance=1000)\n",
    "alice_account.deposit(500)\n",
    "alice_account.apply_interest()\n",
    "alice_account.check_balance()"
   ]
  }
 ],
 "metadata": {
  "kernelspec": {
   "display_name": "dfc-multiverse",
   "language": "python",
   "name": "python3"
  },
  "language_info": {
   "codemirror_mode": {
    "name": "ipython",
    "version": 3
   },
   "file_extension": ".py",
   "mimetype": "text/x-python",
   "name": "python",
   "nbconvert_exporter": "python",
   "pygments_lexer": "ipython3",
   "version": "3.10.0"
  }
 },
 "nbformat": 4,
 "nbformat_minor": 2
}
