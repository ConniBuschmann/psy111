{
 "cells": [
  {
   "cell_type": "code",
   "execution_count": 13,
   "metadata": {},
   "outputs": [
    {
     "name": "stdout",
     "output_type": "stream",
     "text": [
      "        Mixed Linear Model Regression Results\n",
      "======================================================\n",
      "Model:            MixedLM Dependent Variable: y       \n",
      "No. Observations: 12      Method:             REML    \n",
      "No. Groups:       4       Scale:              7.1572  \n",
      "Min. group size:  3       Log-Likelihood:     -28.3889\n",
      "Max. group size:  3       Converged:          Yes     \n",
      "Mean group size:  3.0                                 \n",
      "------------------------------------------------------\n",
      "                 Coef.  Std.Err. z P>|z| [0.025 0.975]\n",
      "------------------------------------------------------\n",
      "Intercept         8.812                               \n",
      "x                 1.328                               \n",
      "Group Var         7.658                               \n",
      "Group x x Cov    -0.623                               \n",
      "x Var             0.051                               \n",
      "======================================================\n",
      "\n"
     ]
    },
    {
     "name": "stderr",
     "output_type": "stream",
     "text": [
      "c:\\Users\\timdr\\miniconda3\\envs\\psy111\\Lib\\site-packages\\statsmodels\\base\\model.py:607: ConvergenceWarning: Maximum Likelihood optimization failed to converge. Check mle_retvals\n",
      "  warnings.warn(\"Maximum Likelihood optimization failed to \"\n",
      "c:\\Users\\timdr\\miniconda3\\envs\\psy111\\Lib\\site-packages\\statsmodels\\regression\\mixed_linear_model.py:2200: ConvergenceWarning: Retrying MixedLM optimization with lbfgs\n",
      "  warnings.warn(\n",
      "c:\\Users\\timdr\\miniconda3\\envs\\psy111\\Lib\\site-packages\\statsmodels\\regression\\mixed_linear_model.py:2704: RuntimeWarning: invalid value encountered in sqrt\n",
      "  sdf[0:self.k_fe, 1] = np.sqrt(np.diag(self.cov_params()[0:self.k_fe]))\n"
     ]
    }
   ],
   "source": [
    "import pandas as pd\n",
    "import statsmodels.api as sm\n",
    "from statsmodels.formula.api import mixedlm\n",
    "\n",
    "# Sample Data\n",
    "data = pd.DataFrame({\n",
    "    'y': [10, 15, 14, 13, 17, 18, 11, 19, 22, 25, 24, 23],\n",
    "    'x': [1, 2, 3, 4, 5, 6, 7, 8, 9, 10, 11, 12],\n",
    "    'group': [1, 1, 1, 2, 2, 2, 3, 3, 3, 4, 4, 4]  # Grouping variable\n",
    "})\n",
    "\n",
    "# Define and Fit the Model with both Random Intercepts and Random Slopes\n",
    "model = mixedlm(\"y ~ x\", data, groups=data[\"group\"], re_formula=\"~x\")\n",
    "result = model.fit()\n",
    "\n",
    "# Print Summary of the Model (for fixed effects)\n",
    "print(result.summary())\n",
    "\n",
    "\n"
   ]
  },
  {
   "cell_type": "code",
   "execution_count": 12,
   "metadata": {},
   "outputs": [
    {
     "name": "stdout",
     "output_type": "stream",
     "text": [
      "        Mixed Linear Model Regression Results\n",
      "======================================================\n",
      "Model:            MixedLM Dependent Variable: y       \n",
      "No. Observations: 12      Method:             REML    \n",
      "No. Groups:       4       Scale:              7.6393  \n",
      "Min. group size:  3       Log-Likelihood:     -28.3700\n",
      "Max. group size:  3       Converged:          No      \n",
      "Mean group size:  3.0                                 \n",
      "------------------------------------------------------\n",
      "              Coef. Std.Err.   z   P>|z| [0.025 0.975]\n",
      "------------------------------------------------------\n",
      "Intercept     9.621    2.049 4.696 0.000  5.606 13.637\n",
      "x             1.225    0.282 4.347 0.000  0.673  1.777\n",
      "Group Var     0.827    1.627                          \n",
      "======================================================\n",
      "\n"
     ]
    },
    {
     "name": "stderr",
     "output_type": "stream",
     "text": [
      "c:\\Users\\timdr\\miniconda3\\envs\\psy111\\Lib\\site-packages\\statsmodels\\base\\model.py:607: ConvergenceWarning: Maximum Likelihood optimization failed to converge. Check mle_retvals\n",
      "  warnings.warn(\"Maximum Likelihood optimization failed to \"\n",
      "c:\\Users\\timdr\\miniconda3\\envs\\psy111\\Lib\\site-packages\\statsmodels\\regression\\mixed_linear_model.py:2200: ConvergenceWarning: Retrying MixedLM optimization with lbfgs\n",
      "  warnings.warn(\n",
      "c:\\Users\\timdr\\miniconda3\\envs\\psy111\\Lib\\site-packages\\statsmodels\\base\\model.py:607: ConvergenceWarning: Maximum Likelihood optimization failed to converge. Check mle_retvals\n",
      "  warnings.warn(\"Maximum Likelihood optimization failed to \"\n",
      "c:\\Users\\timdr\\miniconda3\\envs\\psy111\\Lib\\site-packages\\statsmodels\\regression\\mixed_linear_model.py:2200: ConvergenceWarning: Retrying MixedLM optimization with cg\n",
      "  warnings.warn(\n",
      "c:\\Users\\timdr\\miniconda3\\envs\\psy111\\Lib\\site-packages\\statsmodels\\base\\model.py:607: ConvergenceWarning: Maximum Likelihood optimization failed to converge. Check mle_retvals\n",
      "  warnings.warn(\"Maximum Likelihood optimization failed to \"\n",
      "c:\\Users\\timdr\\miniconda3\\envs\\psy111\\Lib\\site-packages\\statsmodels\\regression\\mixed_linear_model.py:2206: ConvergenceWarning: MixedLM optimization failed, trying a different optimizer may help.\n",
      "  warnings.warn(msg, ConvergenceWarning)\n",
      "c:\\Users\\timdr\\miniconda3\\envs\\psy111\\Lib\\site-packages\\statsmodels\\regression\\mixed_linear_model.py:2218: ConvergenceWarning: Gradient optimization failed, |grad| = 0.196528\n",
      "  warnings.warn(msg, ConvergenceWarning)\n"
     ]
    }
   ],
   "source": [
    "import pandas as pd\n",
    "import statsmodels.api as sm\n",
    "from statsmodels.formula.api import mixedlm\n",
    "\n",
    "# Sample Data\n",
    "data = pd.DataFrame({\n",
    "    'y': [10, 15, 14, 13, 17, 18, 11, 19, 22, 25, 24, 23],\n",
    "    'x': [1, 2, 3, 4, 5, 6, 7, 8, 9, 10, 11, 12],\n",
    "    'group': [1, 1, 1, 2, 2, 2, 3, 3, 3, 4, 4, 4]  # Grouping variable\n",
    "})\n",
    "\n",
    "# Define and Fit the Model with Random Intercept Only\n",
    "model = mixedlm(\"y ~ x\", data, groups=data[\"group\"])  # The intercept is included by default\n",
    "result = model.fit()\n",
    "\n",
    "# Print Summary to See the Fixed Intercept\n",
    "print(result.summary())\n"
   ]
  }
 ],
 "metadata": {
  "kernelspec": {
   "display_name": "psy111",
   "language": "python",
   "name": "python3"
  },
  "language_info": {
   "codemirror_mode": {
    "name": "ipython",
    "version": 3
   },
   "file_extension": ".py",
   "mimetype": "text/x-python",
   "name": "python",
   "nbconvert_exporter": "python",
   "pygments_lexer": "ipython3",
   "version": "3.12.4"
  }
 },
 "nbformat": 4,
 "nbformat_minor": 2
}
